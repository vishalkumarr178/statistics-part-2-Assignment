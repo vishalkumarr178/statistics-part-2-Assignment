{
  "nbformat": 4,
  "nbformat_minor": 0,
  "metadata": {
    "colab": {
      "provenance": []
    },
    "kernelspec": {
      "name": "python3",
      "display_name": "Python 3"
    },
    "language_info": {
      "name": "python"
    }
  },
  "cells": [
    {
      "cell_type": "code",
      "execution_count": null,
      "metadata": {
        "id": "XUINDSkZVri8"
      },
      "outputs": [],
      "source": []
    },
    {
      "cell_type": "markdown",
      "source": [
        "theoritical qustion\n",
        "What is hypothesis testing in statistics ?\n",
        "\n",
        "hypotheses testing is called as asumption too . lets make it simpler , whenver we have enormous population and dont have time as well as resocures too collect the data manully in such circumstances we tend to make asumption out of that popultion . this asumption is also called as hypothesis testing . for instance - making asumption of avg salary of emplyes in a big MNC orgnisation .\n",
        "afterwords making the asumption we take sample out of the population and from that sample applying some statistical calculaton the value which we will get later we will be matching it with the population asumption , if our sample outcome matches with asumtion then we fail to reject the null hyposthesis ohterwise if it doesn,t matches we tend to reject the null hypothesis .\n",
        "What is the null hypothesis, and how does it differ from the alternative hypothesis ?\n",
        "\n",
        "null hypothesis - it works on enitial stage situations or deffult . for instance - if sombody commited a crime morover he/she will be taken to the court in court guy will be considred untill the verdict comes . mean here perosn is not guilty regardless what he did\n",
        "alternative hypothesis - it is totlly opposite of null hypothesis mean in above case person will be considred guilty .\n",
        "What is the significance level in hypothesis testing, and why is it important ?\n",
        "\n",
        "significance is commnely known as marginal error or alpha also . if we talk about its importance then it is the place where we have error or doubt rearding the hypothesis testing , for instance A phone has just been lunched by brand and out of 100 phones . 5 phones are coming with manifectring default it means here we are 95 confident about phone long term sustaniblity and 5 parcent marginal error or level of significance which says there are 5% chances that phone can be defective . this is the basic understanding of level of signifinace. it is used in all type of testing while finding hypothesis .\n",
        "What does a P-value represent in hypothesis testing ?\n",
        "\n",
        "p -value = p value is probability value which helps us to figure wheather to reject the null hypothesis or fail to reject . when p-value is found lessor then < 0.5 we reject the null hypothesis else we fail to reject .\n",
        "this probabilty value is calculated from statistical test .\n",
        "In each test such as z test / t test everywhere this p value is drawn out of their respective tables . for instance in z case we find this p value from z table afterwards used to make conlustion regarding hyposthesis .\n",
        "How do you interpret the P-value in hypothesis testing ?\n",
        "\n",
        "p-value - it repersents the probabilty value of any data . to be clear it is an way to make conlusion regarding the hyposthesis mean weather to reject the null hypothesis or fail to reject .\n",
        "if the p-value is lessor then < 0.05 we rejct the null hyposthesis or we fail to reject the null hypothesis , this is how it impacts the hypothesis .\n",
        "mean p-value is anohter way to make conlusion asif critical ( z/t critical ) ..\n",
        "What are Type 1 and Type 2 errors in hypothesis testing ?\n",
        "\n",
        "type1 error = when we reject the null hypothesis but acullty it is true , this is called type 1 error . elobration - when we are supposting the null hyopothesis and alternative hypothesis is true in this case it creates type 1 ERROR .\n",
        "type 2 error = when we fail to reject the null hypothesis but actully it is false so it known as type2 error . explainnation - when we are suporting the alternative hypothesis but null hyosthesis is true then it genrator error which typclly known as type 2 ERROR .\n",
        "EX1. if any person has been aliged of nay crime and later taken to court , but he /she has not commited any crime . IN court if that peron found offender despite not being convicted . so it is type1 error -EX2 if anyone has really commited crime but in court might not found guilty then it will be known as type 2 error .\n",
        "What is the difference between a one-tailed and a two-tailed test in hypothesis testing ?\n",
        "\n",
        "one tail test - basiclly one tail test which has one rejetion region and here level of significance is 5% on in other words 0.05 . when hypothesis are either grator or lower then one tail test is made . it is found in rejection region therefor helps us to make conclusion in hyposthesis testing .\n",
        "two tail test - two tail test mean when we have two rejection region . but here level of significance unlike one tail test get changed into two parts 2.5 parcent both side mean 0.025 each side . we should have mean is not eqaul to x bar (sample mean ) . m != x . one side is called negetive another positive .\n",
        "note = to get two tail test as i mentioned in above that we should have mue is not equal to of sample mean and in all rest cases we will get only one tial test .\n",
        "What is the Z-test, and when is it used in hypothesis testing ?\n",
        "\n",
        "z test = z test uselly comes from z distribution . here in order to exicute z test anywhere there are some condition which we have to follow otherwise z test will not make any sense . first standred daivation of poplation has to be given and sample size has to be grator then 30 . here one key note is above 30 be it any value for instance - 35 ,100, 340 each will make normal disribution . these are the two things which we have to keep in mind otherwise z test will not be relevent . using z test we can figure out the hyposthises of any data , weather the asumtions are true or not .\n",
        "How do you calculate the Z-score, and what does it represent in hypothesis testing ?\n",
        "\n",
        "zscore = z score is calulated (x bar - mue ) / (std / underoot N ) . explantion = x bar subract mean and devide by standred deviation devide by underoot n . wherase n is sample size .\n",
        "z score imporatnce in hypothesis - z score is used to compare with z critical values during hypothesis testing whose outome lead towards hypothesis conclusion weather to reject the hyposthesis or fail to reject .\n",
        "becasue in z critcal we uselly have value from z table which can not be compared to p-value directly therefor we have to have z score to compare these both .\n",
        "What is the T-distribution, and when should it be used instead of the normal distribution ?\n",
        "t - distribution = t - ditribution is used when we dont have sample size grator than 30 as well as standred divation of population is not given here instead this std of sample population is given where these snarios match we tend to t -test .\n",
        "but in mostly real world snarios nither std of population is given nor sample size is found > 30 therefor we have to use t -distirbution instead of z distribution .\n",
        "T - disriobution depends on the degree of freedom which is calculated by sample size subtract one . here till sample size is grator 30 then curve lines are thiner but as it start decrasing the line also start to get thicker . the line which has lowest sample size is the very thickest line in all over the plot . when we move upward again the thickness again start to get decrease .\n",
        "What is the difference between a Z-test and a T-test ?\n",
        "these test have very few diffrances from each other.\n",
        "\n",
        "z-test = it is basiclly used when we have sample size > grator then 30 and std of population is given then we likly to use z test to figure hypothesis regarding that data . In z test we calulate z statistics which is comapred with z critcal value . In oder to make z critical z table is used . but z test doesn,t have degree of freedom . such thing makes it diffrent from t test .\n",
        "\n",
        "t-test = it is used when sample size is lessor then 30 and std of poplation is not given here instead of this std of sample population is given always . here we calulate t statistis - [x bar - mue] / [s / underoot n ] . in addtion std of sample is denoted by S instead of sigma . t table comes in handy to calculate t critical value afterwards we difine hypothesis .\n",
        "\n",
        "so these were the some key diffrances among z test and t test .\n",
        "\n",
        "What is the T-test, and how is it used in hypothesis testing ?\n",
        "t -test = this come from t-distirbution . here are some steps written in order to use t test in hypothesis testing\n",
        "first we have to make sure not only sample size is lessor then 30 but also std of sample popualtion is given afterwards we can move forward with t -test .\n",
        "here degree of freedom is also very essential ( dof : sample size - 1 )\n",
        "here t statistics is used . formula - [x bar - mue] / [std / underoot n ]\n",
        "t test comes with t table from which we figure t critcal values which later helps us to perform hyposthesis testing .\n",
        "but here while calculating t critcal we have to have degree of freedom which is not nessery in f test .\n",
        "after getting t stats and t critcal we normlly comapre them and either reject or fail to reject the null hypothesis according to numraicals . this is how t -test is used in hypothesis testing .\n",
        "What is the relationship between Z-test and T-test in hypothesis testing ? - t -test and z test both determine if their is significant diffrance among sample and population perameter and among two sample mean .\n",
        "similerty - As the sample size increases the t - distribution approaches the normal distribution making this t-dist similer to z -distriution\n",
        "distribution - this t test uses t -distribution and z -test uses z -distribution\n",
        "sample size - In t-test we have sample size lessor < 30 but on the other hand z -test sample size is > grater then 30 .\n",
        "these are some commen similerty among t_dist and z-dist.\n",
        "What is a confidence interval, and how is it used to interpret statistical results ?\n",
        "confidence interval is - point estimater -+ marginal error .\n",
        "in order to understend confidence interval we have to take an instance which will make this concept more clear - suppose you gave a test and just came outside of exam hole suddenly you met your friend you were asked how much would you score in exam , you said i would score 80 . but in this case you will have very less probability of getting the exact score which you had claimed either you might get more then 80 or less then 80 ulitmalty we can say student has very less confident about his score . but instead of claiming a perticuller value if he says i will get 70 to 90 then getting score out of this range has high probebility and you are more confident here . so this range where you are more confident is called confidence interval .\n",
        "here confidence interval is = point estimator 80 (+-) 10 marginal error .\n",
        "to be clear we have more confidence of getting score out of this range rather then that point estimator .\n",
        "beasuse of its high confidence this confidence interval is used more in statistics .\n",
        "What is the margin of error, and how does it affect the confidence interval ? - margin error = yes margin error does affact the confidence interval , formula - confidence interval= [ point estimate -+ marginal error ] . in this case suppose we have 60 point estimate and 10 marignal error then our interval will spread 10 points negtive and 10 points psoitive eventully we will have a confidence interval fo 50 to 70 . so here because of 10 marignal error our entire confidence interval has been effected .so this job was done by marignal error this is how marginal error affect confidence interval .\n",
        "- explanation - A large marginol error makes the wider confidence interval which lead to uncertinity in estimate - a small margional error makes the narrow confidence interval meaning more precision but reqring a large sample size .\n",
        "\n",
        "How is Bayes' Theorem used in statistics, and what is its significance ? - bayes theorem - p(b/a) = [p(b) + P (a/b) ] / p(b) - p(a/b) = [p(a) + P (b/a) ] / p(a)\n",
        "- in above lines i have written byes theorem where - p(a/b) probability of a has been given and b has already occured . - p(b/a) - here prbability of b has been given and a has alredy occured . - p(a) , P(b) = wherese these a and b are independ probability - Above i have written how byes thorem is written - byes theorem - it describes how to update the probabilty of an event based on the new evidence .\n",
        "- significance - update belief = it allows to revision of the older probabilty with new evidence || 2. it is used to make machine learning modles .\n",
        "\n",
        "What is the Chi-square distribution, and when is it used ? - Chi-square distribution = it is a probability distribution which describes the sum of squre of k random varibles . wherase k reprsent the degree of freedom . here in Chi-square distribution we have two degree of freedom where one is for numinator and another one for dinominator , becasue while finding Chi-square critical from Chi-square table these both are nessery . - when we do sum of squre that time we are closly following the Chi-square distribution . - sum key observation - since we do squre here therofor it doesn,t have negetive values mean only positive value - here data is right skewed mean mostly data lies in the right side which result as a one tial test - fact = Chi-square distribution is non permetric . in order to unnderstend this we have to first figur what permatric mean . it means which makes any sort of asumption regarding population is called peramtric . but in some articles it is stated that Chi-square distribution is prmtric , but in true sense it doesn,t make any asumtion about population therfor its clearly non pramtric - usecase = it is used to anylise the catogrical data .\n",
        "\n",
        "What is the Chi-square goodness of fit test, and how is it applied ?\n",
        "\n",
        "Chi-square goodness of fit test - it is an test of chi squre dstirbution of which is commenly known goodness of fit test . It is also used to anylise the catogrical data . but here two more things comes into the picture which is expected and observed value . observed values is the real data which is given after collections or surveys , usully known as catogrical data but on the other hand expected values which we figure out by doing calulation\n",
        "formula of this is - [(observed - expected) * 2 ]/ expected . using this fomrula we find chi squre stats which is used to compare with chi squre critical morover we find weather to reject the null hypothesis or fail to reject . but here in order to test hypothesis we have to have expected and observed values ready .\n",
        "What is the F-distribution, and when is it used in hypothesis testing ?\n",
        "f disribution = It is an sort of probabiltiy distribution which is used to compare the variance of two or more then two sample or we say groups . here varince which gives how the spread of data is , weather data is closly spread from mean or has high spread .\n",
        "since f -test is part of f distirbution therefor it is right skewed mean moslty data lies in right side of the diribution .\n",
        "secondly since we do squre of values here therefor each value always will be psitive mean no negative data .\n",
        "here we have two degree of freedom why because since we are comparing two variable therfor two DOF\n",
        "Same as rest t/z stats we have f stats here which is S**2 **1 / s **2 **2 .\n",
        "What is an ANOVA test, and what are its assumptions ?\n",
        "anova test = it is also an probability disribution which defines the mean of two or more then two groups . It is useuslly used with more then two varibles why because till two varibles when sample size is lessor then we have t-test which can be used .\n",
        "anova test we have 1- fectors / catogry 2. levels\n",
        "for instance you have medicine with diffrent - diffrent doeses and you want to test it these diffrent doses over diffrent people poeple . so we have three does of 10mg , 25 mg and 100 mg and we tested these diffrent doses on diffrent people . so this situation medince is called as factor and its diffrent does which has been exicuted over diffrent people are called levels .\n",
        "Asumption of anova = 1. IN anove from which factors these levels are being drawn should have normal distribution .\n",
        "Any sort of event should not be dependent on each other , all events should be independent .\n",
        "absence of outlier .\n",
        "What are the different types of ANOVA tests ?\n",
        "Anova has three diffrent types:-\n",
        "one way anove = it has one fector and at least two varibles those are independent mean does not get affected of each other ex.. = imagine we want to make any online payment to any of our friend , who accepts payment online only then in this case we might have lot of option to make payment such as - imps , nfc , phone pay , gpay so one . so here this online payment is fector which is one and these diffrent apps and methods are levels . which is totally diffrent from each other . if you make pyament using gpay it will not reflect in you phone pay history .\n",
        "repeated measure anove - here we have one fector and atleast two variables but this time varibles are depend on each other mean opposite of one way anove . for example if a very encourged or inspried man begain hiting gym , very first day he worksout for 5 hour , next day time get decrease to 3 hour and keep falling each day but when it reaches to one hour he relises his mistakes and start doing gym more time . here we can say time duration of each day is depend on each other .\n",
        "fectorial anova = when we have two or more then two fectors and each factors has atleast two varibles who either can be independent or dependent . ex - in medince instance when we are testing the diffrent doeses of medicine over some diffrent group of people so here we can here another fector as a gender whcih will have two levels male/ female . who also will be affected by doeses\n",
        "What is the F-test, and how does it relate to hypothesis testing ?\n",
        "The F-test is a statistical test used to compare the variances of two or more groups to determine if they are significantly different. It is commonly used in hypothesis testing when comparing models or assessing the equality of variances. The F-test is based on the F-distribution, which is the ratio of two chi-square distributed variables divided by their respective degrees of freedom."
      ],
      "metadata": {
        "id": "KQxYMBKsVtrc"
      }
    },
    {
      "cell_type": "markdown",
      "source": [],
      "metadata": {
        "id": "2Xz0_FHIVxxo"
      }
    },
    {
      "cell_type": "code",
      "source": [
        "#pratical qustions\n",
        "\n",
        "import pandas as pd\n",
        "import numpy as np\n",
        "import seaborn as sns\n",
        "import statistics\n",
        "import scipy.stats as stats\n",
        "import scipy.stats as ttest\n",
        "import matplotlib.pyplot as plt\n",
        "import warnings\n",
        "warnings.filterwarnings('ignore')\n",
        ""
      ],
      "metadata": {
        "id": "QSiMe0lSVyMJ"
      },
      "execution_count": 2,
      "outputs": []
    },
    {
      "cell_type": "code",
      "source": [
        "#1 . Write a Python program to perform a Z-test for comparing a sample mean to a known population mean and interpret the results ?\n",
        "#qus statement -A company claims that the average life of its batteries is 1000 hours. You collected a random sample of 30 batteries and .\n",
        "# found that their mean life is 950 hours with a standard deviation of 120 hours. You want to test whether the actual battery life is significantly different from 1000 hours at a 5% significance level (α = 0.05)\n",
        "\n",
        "\n",
        "\n",
        "population_mean = 1000\n",
        "population_std = 120\n",
        "sample_size = 30\n",
        "sample_mean = 950\n",
        "alpha= 0.05\n",
        "\n",
        "\n",
        "# step 1 : null hyopothese :  m battry  1000 == m battry 1000\n",
        "# alternative hypothesis :  m battry  1000 != m battry 1000\n",
        "\n",
        "\n",
        "# z score\n",
        "zscore = (sample_mean - population_mean) / (population_std / np.sqrt(sample_size))\n",
        "print(\"the zscore is : \",zscore)\n",
        ""
      ],
      "metadata": {
        "colab": {
          "base_uri": "https://localhost:8080/"
        },
        "id": "oswriO9TWjFZ",
        "outputId": "360cd09e-aa3b-455e-f6fd-78beb1929654"
      },
      "execution_count": 3,
      "outputs": [
        {
          "output_type": "stream",
          "name": "stdout",
          "text": [
            "the zscore is :  -2.282177322938192\n"
          ]
        }
      ]
    },
    {
      "cell_type": "code",
      "source": [
        "# now z crtical\n",
        "zcritical = stats.norm.ppf(1-alpha)\n",
        "print(\"the z critical is :\",zcritical)\n",
        ""
      ],
      "metadata": {
        "colab": {
          "base_uri": "https://localhost:8080/"
        },
        "id": "XoHZII0nW3vb",
        "outputId": "cbb3ae2d-496f-4d53-d486-2ee319d4efa7"
      },
      "execution_count": 4,
      "outputs": [
        {
          "output_type": "stream",
          "name": "stdout",
          "text": [
            "the z critical is : 1.6448536269514722\n"
          ]
        }
      ]
    },
    {
      "cell_type": "code",
      "source": [
        "if zscore > zcritical:\n",
        "  print(\"we rejct the null hypothesis\")\n",
        "else:\n",
        "  print('we fail to reject the null hypothesis')"
      ],
      "metadata": {
        "colab": {
          "base_uri": "https://localhost:8080/"
        },
        "id": "XZsOet6zXFQc",
        "outputId": "001f86f6-ec3e-4d9e-abe1-8bc30ad129a0"
      },
      "execution_count": 5,
      "outputs": [
        {
          "output_type": "stream",
          "name": "stdout",
          "text": [
            "we fail to reject the null hypothesis\n"
          ]
        }
      ]
    },
    {
      "cell_type": "code",
      "source": [
        "# now using p- value\n",
        "p_value = 1-stats.norm.cdf(zscore)\n",
        "p_value\n",
        ""
      ],
      "metadata": {
        "colab": {
          "base_uri": "https://localhost:8080/"
        },
        "id": "s4SRAsrDXSvg",
        "outputId": "3456888d-857b-4d58-f542-a0acd9de1ee1"
      },
      "execution_count": 6,
      "outputs": [
        {
          "output_type": "execute_result",
          "data": {
            "text/plain": [
              "np.float64(0.9887605633169374)"
            ]
          },
          "metadata": {},
          "execution_count": 6
        }
      ]
    },
    {
      "cell_type": "code",
      "source": [
        "if p_value < 0.05:\n",
        "  print('reject the null hyposthesis')\n",
        "else:\n",
        "  print(\"fail to reject the null hypotesis\")"
      ],
      "metadata": {
        "colab": {
          "base_uri": "https://localhost:8080/"
        },
        "id": "2yt0opwjXnBo",
        "outputId": "905f5bb5-0f26-454f-f857-3d022eb16641"
      },
      "execution_count": 7,
      "outputs": [
        {
          "output_type": "stream",
          "name": "stdout",
          "text": [
            "fail to reject the null hypotesis\n"
          ]
        }
      ]
    },
    {
      "cell_type": "code",
      "source": [
        "#2 Simulate random data to perform hypothesis testing and calculate the corresponding P-value using Python ?\n",
        "population_mean2 = 300\n",
        "population_std2 =17\n",
        "sample_size2 = 60\n",
        "sample = np.random.normal(loc =population_mean2,scale = population_std,size =sample_size )\n",
        "sample\n",
        ""
      ],
      "metadata": {
        "colab": {
          "base_uri": "https://localhost:8080/"
        },
        "id": "LP2EolRjXv4Z",
        "outputId": "c686f3e5-f3f6-42a4-95d1-9584f1eeb797"
      },
      "execution_count": 8,
      "outputs": [
        {
          "output_type": "execute_result",
          "data": {
            "text/plain": [
              "array([440.43603319, 272.79614914, 124.24465722, 320.42925982,\n",
              "       341.86639887,  57.13686012, 298.36490015, 521.47209648,\n",
              "       214.99779915, 228.72650507, 272.21780299, 236.21382762,\n",
              "       273.986512  , 275.04285156, 228.29248306, 228.76915417,\n",
              "       528.15748574, 475.15725185, 413.92633734, 331.39833159,\n",
              "       415.6535308 , 237.69005191, 331.06792534, 539.49399387,\n",
              "       409.21180937, 241.03385047, 233.77120424, 186.18659958,\n",
              "       340.70490927, 374.73708219])"
            ]
          },
          "metadata": {},
          "execution_count": 8
        }
      ]
    },
    {
      "cell_type": "code",
      "source": [
        "len(sample)\n",
        ""
      ],
      "metadata": {
        "colab": {
          "base_uri": "https://localhost:8080/"
        },
        "id": "M4xkBYMzX8ey",
        "outputId": "53b17c79-3037-4031-fbd9-9464f02d915c"
      },
      "execution_count": 9,
      "outputs": [
        {
          "output_type": "execute_result",
          "data": {
            "text/plain": [
              "30"
            ]
          },
          "metadata": {},
          "execution_count": 9
        }
      ]
    },
    {
      "cell_type": "code",
      "source": [
        "sample_mean2 = np.mean(sample)\n",
        "sample_std2= np.std(sample,ddof=1)\n",
        ""
      ],
      "metadata": {
        "id": "4oqrtIfjYJE0"
      },
      "execution_count": 10,
      "outputs": []
    },
    {
      "cell_type": "code",
      "source": [
        "z_score2 = (sample_mean2-population_mean2) / (population_std2 / np.sqrt(sample_size2))\n",
        "z_score2\n",
        ""
      ],
      "metadata": {
        "colab": {
          "base_uri": "https://localhost:8080/"
        },
        "id": "zwALebXxYTZp",
        "outputId": "2bd9baab-cdbe-4c4a-83cb-eed32ae24d1d"
      },
      "execution_count": 11,
      "outputs": [
        {
          "output_type": "execute_result",
          "data": {
            "text/plain": [
              "np.float64(5.971740174807853)"
            ]
          },
          "metadata": {},
          "execution_count": 11
        }
      ]
    },
    {
      "cell_type": "code",
      "source": [
        "p_value2 = 2 * (1- stats.norm.cdf(abs(z_score2)))\n",
        "p_value2"
      ],
      "metadata": {
        "colab": {
          "base_uri": "https://localhost:8080/"
        },
        "id": "TYrzF1mOYgUb",
        "outputId": "658185c4-f190-42b4-a550-16dd0bafe137"
      },
      "execution_count": 12,
      "outputs": [
        {
          "output_type": "execute_result",
          "data": {
            "text/plain": [
              "np.float64(2.3473616383995477e-09)"
            ]
          },
          "metadata": {},
          "execution_count": 12
        }
      ]
    },
    {
      "cell_type": "code",
      "source": [
        "alpha2 =0.05\n",
        "\n",
        "\n",
        "if p_value2 < alpha:\n",
        "  print('reject the null hyposthesis')\n",
        "else:\n",
        "  print(\"fail to reject the null hypotesis\")"
      ],
      "metadata": {
        "colab": {
          "base_uri": "https://localhost:8080/"
        },
        "id": "OZUPI0M_Yom7",
        "outputId": "148c062e-aa99-4ab0-8d8b-8c33c239d6e5"
      },
      "execution_count": 13,
      "outputs": [
        {
          "output_type": "stream",
          "name": "stdout",
          "text": [
            "reject the null hyposthesis\n"
          ]
        }
      ]
    },
    {
      "cell_type": "code",
      "source": [
        "#3. Implement a one-sample Z-test using Python to compare the sample mean with the population mean ?\n",
        "# A soft drink company claims that the average sugar content in its 500 ml bottle is 30 grams.\n",
        "# You suspect that the actual sugar content is different, so you take a random sample of 40 bottles and measure the sugar content.\n",
        "\n",
        "\n",
        "\n",
        "population_mean3 = 30\n",
        "Population_Std3 = 4\n",
        "Sample_size3 = 40\n",
        "Sample_mean3= 28.5\n",
        "aplha = 0.05\n",
        "\n",
        "\n",
        "# step1 - null hypothesis : m gram30 == m gram 30\n",
        "# alternative hyposthesis : m gram 30 != m gram 30\n",
        "\n",
        "\n",
        "\n",
        "# now z score\n",
        "zscore3 = (Sample_mean3 - population_mean3) / (Population_Std3 / np.sqrt(Sample_size3))\n",
        "print(\"this is the :\",zscore3)"
      ],
      "metadata": {
        "colab": {
          "base_uri": "https://localhost:8080/"
        },
        "id": "IMrbuaxAY3Xt",
        "outputId": "29a4093d-d585-429a-f31e-2e20631b391c"
      },
      "execution_count": 14,
      "outputs": [
        {
          "output_type": "stream",
          "name": "stdout",
          "text": [
            "this is the : -2.3717082451262845\n"
          ]
        }
      ]
    },
    {
      "cell_type": "code",
      "source": [
        "z_critical3 = stats.norm.ppf(1-alpha / 2) # becasuse two tail test\n",
        "z_critical3\n",
        ""
      ],
      "metadata": {
        "colab": {
          "base_uri": "https://localhost:8080/"
        },
        "id": "UOogYFgMZCkJ",
        "outputId": "1da460c7-4b92-4c0d-fad5-680fd3744f7e"
      },
      "execution_count": 15,
      "outputs": [
        {
          "output_type": "execute_result",
          "data": {
            "text/plain": [
              "np.float64(1.959963984540054)"
            ]
          },
          "metadata": {},
          "execution_count": 15
        }
      ]
    },
    {
      "cell_type": "code",
      "source": [
        "if zscore3 > z_critical3:\n",
        "  print(\"we rejct the null hypothesis\")\n",
        "else:\n",
        "  print('we fail to reject the null hypothesis')"
      ],
      "metadata": {
        "colab": {
          "base_uri": "https://localhost:8080/"
        },
        "id": "gHwQ4-LXZQPv",
        "outputId": "ffc35c43-ce08-44fe-d050-6090d1a5a9b2"
      },
      "execution_count": 16,
      "outputs": [
        {
          "output_type": "stream",
          "name": "stdout",
          "text": [
            "we fail to reject the null hypothesis\n"
          ]
        }
      ]
    },
    {
      "cell_type": "code",
      "source": [
        "#4. Perform a two-tailed Z-test using Python and visualize the decision region on a plot ?\n",
        "# A university claims that the average IQ score of its students is 110.\n",
        "# A researcher believes that the average IQ may be different, so they collect a random sample of 50 students and measure their IQ scores.\n",
        "\n",
        "\n",
        "\n",
        "population_mean4 = 110\n",
        "Population_Std4 = 15\n",
        "Sample_size4 = 50\n",
        "Sample_mean4 = 105\n",
        "aplha = 0.05\n",
        "\n",
        "\n",
        "# now perfoming z test on it\n",
        "# step1 = null hypothesis m iq 110 == m iq 110\n",
        "# alternative hypothesis m iq 110 != m iq 110\n",
        "\n",
        "\n",
        "# now z score\n",
        "zscore4 = (Sample_mean4 - population_mean4) / (Population_Std4 / np.sqrt(sample_size))\n",
        "print('zscore :',zscore4)\n",
        ""
      ],
      "metadata": {
        "colab": {
          "base_uri": "https://localhost:8080/"
        },
        "id": "VY2YNI7AZYjn",
        "outputId": "50ceb793-bab0-4c51-e4d7-ef23956413c8"
      },
      "execution_count": 17,
      "outputs": [
        {
          "output_type": "stream",
          "name": "stdout",
          "text": [
            "zscore : -1.8257418583505538\n"
          ]
        }
      ]
    },
    {
      "cell_type": "code",
      "source": [
        "# now z critical\n",
        "z_critical4 = stats.norm.ppf(1-alpha / 2) # becasuse two tail test\n",
        "z_critical4\n",
        ""
      ],
      "metadata": {
        "colab": {
          "base_uri": "https://localhost:8080/"
        },
        "id": "S_7I86puZfdX",
        "outputId": "aadc10ba-d610-49f6-a4a3-3d414927af00"
      },
      "execution_count": 18,
      "outputs": [
        {
          "output_type": "execute_result",
          "data": {
            "text/plain": [
              "np.float64(1.959963984540054)"
            ]
          },
          "metadata": {},
          "execution_count": 18
        }
      ]
    },
    {
      "cell_type": "code",
      "source": [
        "if zscore3 > z_critical3:\n",
        "  print(\"we rejct the null hypothesis\")\n",
        "else:\n",
        "  print('we fail to reject the null hypothesis')"
      ],
      "metadata": {
        "colab": {
          "base_uri": "https://localhost:8080/"
        },
        "id": "TLHe1lKdZmyt",
        "outputId": "bc9b0a48-0b3c-4213-e68d-e09014f35451"
      },
      "execution_count": 19,
      "outputs": [
        {
          "output_type": "stream",
          "name": "stdout",
          "text": [
            "we fail to reject the null hypothesis\n"
          ]
        }
      ]
    },
    {
      "cell_type": "code",
      "source": [
        "# now visvlizing the decision region on plot\n",
        "x4 = np.linspace(-5,5,800)\n",
        "y4 = stats.norm.pdf(x4,0,1)\n",
        "\n",
        "\n",
        "\n",
        "# now ploting a normal distirbution curve\n",
        "plt.figure(figsize=(8,4))\n",
        "plt.plot(x4,y4,label='standred normal disribution',color='blue')\n",
        "\n",
        "# now sahding the rejction region\n",
        "x_left = np.linspace(-5,-z_critical4,200)\n",
        "y_left = stats.norm.pdf(x_left,0,1)\n",
        "plt.fill_between(x_left,y_left,color='green',alpha=0.7,label='rejection region')\n",
        "\n",
        "x_right = np.linspace(5,z_critical4,200)\n",
        "y_right = stats.norm.pdf(x_right,0,1)\n",
        "plt.fill_between (x_right,y_right,color='yellow',alpha=0.7,label='rejection region')\n",
        "\n",
        "# z critical lines\n",
        "plt.axvline(-z_critical4, color='black',linestyle ='dashed')\n",
        "plt.axvline(z_critical4, color='black',linestyle ='dashed')\n",
        "\n",
        "# Labels and title\n",
        "plt.title(\"Decision Region of a Two-Tailed Z-Test\")\n",
        "plt.xlabel(\"Z-score\")\n",
        "plt.ylabel(\"Probability Density\")\n",
        "plt.legend()\n",
        "plt.show()"
      ],
      "metadata": {
        "colab": {
          "base_uri": "https://localhost:8080/",
          "height": 410
        },
        "id": "E1U5kmpWZtUf",
        "outputId": "8c2a3c15-5ad9-411d-e3af-5e8dac7b2d84"
      },
      "execution_count": 20,
      "outputs": [
        {
          "output_type": "display_data",
          "data": {
            "text/plain": [
              "<Figure size 800x400 with 1 Axes>"
            ],
            "image/png": "[encoded data removed]"
          },
          "metadata": {}
        }
      ]
    },
    {
      "cell_type": "code",
      "source": [
        "#5 . Create a Python function that calculates and visualizes Type 1 and Type 2 errors during hypothesis testing ?\n",
        "\n",
        "\n",
        "\n",
        "# 6 Write a Python program to perform an independent T-test and interpret the results ?\n",
        "# here i am going to perfrom an t t-test which includes two independent groups\n",
        "\n",
        "#QUSTION = A researcher wants to determine whether students from two different schools have a significant difference in their math test scores.\n",
        "# The researcher collects a random sample of students from School A and School B and records their scores.\n",
        "# Group 1 (School A) Scores: [78, 85, 88, 92, 76, 81, 85, 89, 94, 79]\n",
        "# Group 2 (School B) Scores: [72, 80, 75, 78, 74, 77, 79, 81, 83, 76]\n",
        "\n",
        "school_a = [78, 85, 88, 92, 76, 81, 85, 89, 94, 79]\n",
        "school_b = [72, 80, 75, 78, 74, 77, 79, 81, 83, 76]\n",
        "\n",
        "\n",
        "# step 1  - null hypothesis : m group a == m group b\n",
        "# alternative hypothesis : m group a != group b\n",
        "\n",
        "\n",
        "variance_A = np.var(school_a, ddof=1)  # ddof=1 for sample variance\n",
        "variance_B = np.var(school_b, ddof=1)\n",
        "t_statistic, p_value = stats.ttest_ind(school_a, school_b, equal_var=False)\n",
        "\n",
        "\n",
        "if p_value < alpha:\n",
        "    print(\"Reject the null hypothesis: There is a significant difference between the two schools.\")\n",
        "else:\n",
        "    print(\"Fail to reject the null hypothesis: No significant difference between the two schools.\")"
      ],
      "metadata": {
        "colab": {
          "base_uri": "https://localhost:8080/"
        },
        "id": "IA-erQ1zZ08Z",
        "outputId": "9950672a-8f42-4f09-a82b-58dc15a12717"
      },
      "execution_count": 21,
      "outputs": [
        {
          "output_type": "stream",
          "name": "stdout",
          "text": [
            "Reject the null hypothesis: There is a significant difference between the two schools.\n"
          ]
        }
      ]
    },
    {
      "cell_type": "code",
      "source": [
        "# 7.  Perform a paired sample T-test using Python and visualize the comparison results ?\n",
        "# A fitness trainer wants to test whether a 6-week workout program helps in improving strength levels.\n",
        "\n",
        "'''Given Data:\n",
        "10 participants were tested for their bench press strength (in kg) before starting the program.\n",
        "After 6 weeks, their strength was measured again.\n",
        "The trainer wants to check: Did the workout program significantly improve strength?'''\n",
        ""
      ],
      "metadata": {
        "colab": {
          "base_uri": "https://localhost:8080/",
          "height": 53
        },
        "id": "6VXf6DIfaE1T",
        "outputId": "2ba7f718-c8ad-4c1d-f69c-ed63822a7392"
      },
      "execution_count": 22,
      "outputs": [
        {
          "output_type": "execute_result",
          "data": {
            "text/plain": [
              "'Given Data:\\n10 participants were tested for their bench press strength (in kg) before starting the program.\\nAfter 6 weeks, their strength was measured again.\\nThe trainer wants to check: Did the workout program significantly improve strength?'"
            ],
            "application/vnd.google.colaboratory.intrinsic+json": {
              "type": "string"
            }
          },
          "metadata": {},
          "execution_count": 22
        }
      ]
    },
    {
      "cell_type": "code",
      "source": [
        "# step 1 - null hypothesis : M before == M after\n",
        "# alternative hypothesis : M before < M after\n",
        "\n",
        "\n",
        "# now t statistis and probability values\n",
        "#1 mean of diffrance\n",
        "before = np.array([80,90,78,85,88,76,82,89,91,87])\n",
        "after =np.array([85,94,80,87,92,79,86,93,95,91])\n",
        "diffrence = before - after\n",
        "\n",
        "\n",
        "diffrence"
      ],
      "metadata": {
        "colab": {
          "base_uri": "https://localhost:8080/"
        },
        "id": "TJx8OQG1aPfl",
        "outputId": "620c7470-e380-437f-ae83-7fe72454562a"
      },
      "execution_count": 23,
      "outputs": [
        {
          "output_type": "execute_result",
          "data": {
            "text/plain": [
              "array([-5, -4, -2, -2, -4, -3, -4, -4, -4, -4])"
            ]
          },
          "metadata": {},
          "execution_count": 23
        }
      ]
    },
    {
      "cell_type": "code",
      "source": [
        "population_mean7 = np.mean(diffrence)\n",
        "population_std7 = np.std(diffrence)\n",
        "\n",
        "\n",
        "t_stats7, p_value7 = stats.ttest_rel(before,after)\n",
        "\n",
        "\n",
        "\n",
        "if p_value7 < alpha:\n",
        "  print(\"Reject the null hypothesis\")\n",
        "else:\n",
        "    print(\"Fail to reject the null hypothesis\")\n",
        ""
      ],
      "metadata": {
        "colab": {
          "base_uri": "https://localhost:8080/"
        },
        "id": "ZYGtmcGmacDD",
        "outputId": "867b5eeb-ddfc-4f31-e2f9-a94f040c143d"
      },
      "execution_count": 24,
      "outputs": [
        {
          "output_type": "stream",
          "name": "stdout",
          "text": [
            "Reject the null hypothesis\n"
          ]
        }
      ]
    },
    {
      "cell_type": "code",
      "source": [
        "# now visulisting this\n",
        "import scipy.stats as stats\n",
        "\n",
        "\n",
        "x7 = np.linspace(-6,6,1000)\n",
        "y7 = stats.norm.pdf(x7,0,1)\n",
        "df = len(before) - 1\n",
        "df\n",
        ""
      ],
      "metadata": {
        "colab": {
          "base_uri": "https://localhost:8080/"
        },
        "id": "-hfAOqiLajEg",
        "outputId": "68657267-0ca3-4a24-976c-02d2201660ad"
      },
      "execution_count": 25,
      "outputs": [
        {
          "output_type": "execute_result",
          "data": {
            "text/plain": [
              "9"
            ]
          },
          "metadata": {},
          "execution_count": 25
        }
      ]
    },
    {
      "cell_type": "code",
      "source": [
        "plt.figure(figsize=(8,4))\n",
        "plt.plot(x7,y7,label='t_disribution')\n",
        "# now showing the rejection region\n",
        "alpha = 0.05\n",
        "t_critical7 = stats.t.ppf(1- alpha / 2 , df )\n",
        "plt.fill_between(x7,y7,where=(x7 <= -t_critical7) | (x7 >= t_critical7), color='red', alpha=0.3, label=\"Rejection Region\")\n",
        "\n",
        "plt.axvline(-t_critical7, color='black',linestyle ='dashed')\n",
        "plt.axvline(t_critical7, color='black',linestyle ='dashed')\n",
        "plt.legend()\n",
        "plt.show()"
      ],
      "metadata": {
        "colab": {
          "base_uri": "https://localhost:8080/",
          "height": 368
        },
        "id": "DnL8js0LapxY",
        "outputId": "8dffb21d-c376-4988-d163-52ff1b8627b7"
      },
      "execution_count": 26,
      "outputs": [
        {
          "output_type": "display_data",
          "data": {
            "text/plain": [
              "<Figure size 800x400 with 1 Axes>"
            ],
            "image/png": "[encoded data removed]"
          },
          "metadata": {}
        }
      ]
    },
    {
      "cell_type": "code",
      "source": [
        "#8 Simulate data and perform both Z-test and T-test, then compare the results using Python ?\n",
        "#A university claims that the average student exam score is 75. A university claims that the average student exam score is 75.\n",
        "# you collect a random sample of 30 students' scores to test if the actual mean differs from 75\n",
        "\n",
        "exam_scores = [78, 72, 81, 69, 76, 80, 74, 77, 73, 79,\n",
        "               71, 82, 68, 75, 78, 70, 74, 79, 77, 81,\n",
        "               69, 76, 73, 78, 80, 72, 74, 71, 77, 75]\n",
        "\n",
        "\n",
        "\n",
        "\n",
        "population_mean8 =75\n",
        "sample_size8 = 30\n",
        "len(exam_scores)"
      ],
      "metadata": {
        "colab": {
          "base_uri": "https://localhost:8080/"
        },
        "id": "CAraffyhavPi",
        "outputId": "fbe9edbf-a139-457b-cd78-3ca5c72f1866"
      },
      "execution_count": 27,
      "outputs": [
        {
          "output_type": "execute_result",
          "data": {
            "text/plain": [
              "30"
            ]
          },
          "metadata": {},
          "execution_count": 27
        }
      ]
    },
    {
      "cell_type": "code",
      "source": [
        "sample_mean8= np.mean(exam_scores)\n",
        "sample_std8 = np.std(exam_scores,ddof=1)\n",
        "\n",
        "\n",
        "\n",
        "# now calculating t score first\n",
        "# part A 8th >>>>\n",
        "# step 1 - null hypothesis is m score 75 == m score 75\n",
        "# alterantive hypothesis is - m score 75 != m score 75\n",
        "\n",
        "\n",
        "tscore8 = (sample_mean8 - population_mean8) / (sample_std8 / np.sqrt(sample_size8))\n",
        "tscore8"
      ],
      "metadata": {
        "colab": {
          "base_uri": "https://localhost:8080/"
        },
        "id": "Sfue9dO6a9bK",
        "outputId": "2d710be1-f69c-41e7-d4b8-db476de29a5f"
      },
      "execution_count": 28,
      "outputs": [
        {
          "output_type": "execute_result",
          "data": {
            "text/plain": [
              "np.float64(0.4179232298034718)"
            ]
          },
          "metadata": {},
          "execution_count": 28
        }
      ]
    },
    {
      "cell_type": "code",
      "source": [
        "# now t critical\n",
        "dof8 = len(exam_scores) - 1\n",
        "alpha = 0.05\n",
        "\n",
        "\n",
        "t_cirtical8 =stats.t.ppf(1- alpha / 2 , dof8)\n",
        "t_cirtical8"
      ],
      "metadata": {
        "colab": {
          "base_uri": "https://localhost:8080/"
        },
        "id": "8Zh61N9WbF3z",
        "outputId": "312ed2e7-25fc-4a4c-c295-6640837f484b"
      },
      "execution_count": 29,
      "outputs": [
        {
          "output_type": "execute_result",
          "data": {
            "text/plain": [
              "np.float64(2.045229642132703)"
            ]
          },
          "metadata": {},
          "execution_count": 29
        }
      ]
    },
    {
      "cell_type": "code",
      "source": [
        "p_value8 =  stats.t.sf(abs(tscore8), df=sample_size8-1) * 2\n",
        "p_value8\n",
        ""
      ],
      "metadata": {
        "colab": {
          "base_uri": "https://localhost:8080/"
        },
        "id": "JY9Iu5J1bLb7",
        "outputId": "b9f36b9e-c1cf-4775-8863-22b821e11aae"
      },
      "execution_count": 30,
      "outputs": [
        {
          "output_type": "execute_result",
          "data": {
            "text/plain": [
              "np.float64(0.6790816576484111)"
            ]
          },
          "metadata": {},
          "execution_count": 30
        }
      ]
    },
    {
      "cell_type": "code",
      "source": [
        "if tscore8 > t_cirtical8:\n",
        "  print('we reject the null hyposthesis')\n",
        "else:\n",
        "  print('fail to reject the null hypothesis')\n"
      ],
      "metadata": {
        "colab": {
          "base_uri": "https://localhost:8080/"
        },
        "id": "pelmxp5ebUJM",
        "outputId": "22eaec2b-be60-4362-8972-2df4aa88a143"
      },
      "execution_count": 31,
      "outputs": [
        {
          "output_type": "stream",
          "name": "stdout",
          "text": [
            "fail to reject the null hypothesis\n"
          ]
        }
      ]
    },
    {
      "cell_type": "code",
      "source": [
        "if p_value8 < alpha:\n",
        "  print('we reject the null hyposthesis')\n",
        "else:\n",
        "  print('fail to reject the null hypothesis')"
      ],
      "metadata": {
        "colab": {
          "base_uri": "https://localhost:8080/"
        },
        "id": "Y3F0CijJbYwi",
        "outputId": "ec73fe21-f97b-4867-92db-f293d76ab514"
      },
      "execution_count": 32,
      "outputs": [
        {
          "output_type": "stream",
          "name": "stdout",
          "text": [
            "fail to reject the null hypothesis\n"
          ]
        }
      ]
    },
    {
      "cell_type": "code",
      "source": [
        "# now applying the z test formula here  by assuming the pop_std 5\n"
      ],
      "metadata": {
        "id": "BHZZRcSCbd2i"
      },
      "execution_count": 33,
      "outputs": []
    },
    {
      "cell_type": "code",
      "source": [
        "population_std8 =5\n",
        "\n",
        "\n",
        "\n",
        "z_score8 =(sample_mean8 - population_mean8) / (population_std8 / np.sqrt(sample_size8))\n",
        "z_score8"
      ],
      "metadata": {
        "colab": {
          "base_uri": "https://localhost:8080/"
        },
        "id": "Y_5Qqcwibo31",
        "outputId": "dac6c284-0637-456c-8476-681bea968f09"
      },
      "execution_count": 34,
      "outputs": [
        {
          "output_type": "execute_result",
          "data": {
            "text/plain": [
              "np.float64(0.3286335345030965)"
            ]
          },
          "metadata": {},
          "execution_count": 34
        }
      ]
    },
    {
      "cell_type": "code",
      "source": [
        "# now z critical\n",
        "z_critical8 =stats.norm.ppf(1-alpha / 2)\n",
        "z_critical8\n",
        "\n"
      ],
      "metadata": {
        "colab": {
          "base_uri": "https://localhost:8080/"
        },
        "id": "6WW7zKxJbwIH",
        "outputId": "cf992ab0-4044-4df9-b8e9-403900ae6345"
      },
      "execution_count": 35,
      "outputs": [
        {
          "output_type": "execute_result",
          "data": {
            "text/plain": [
              "np.float64(1.959963984540054)"
            ]
          },
          "metadata": {},
          "execution_count": 35
        }
      ]
    },
    {
      "cell_type": "code",
      "source": [
        "if z_score8 > z_critical8:\n",
        "  print('we reject the null hypothesis')\n",
        "else:\n",
        "  print('fail to reject the null hypothesis')\n",
        "\n",
        ""
      ],
      "metadata": {
        "colab": {
          "base_uri": "https://localhost:8080/"
        },
        "id": "2kWQqf6Gb2xP",
        "outputId": "964861dc-a881-4c9b-fd43-ae3c4a565437"
      },
      "execution_count": 36,
      "outputs": [
        {
          "output_type": "stream",
          "name": "stdout",
          "text": [
            "fail to reject the null hypothesis\n"
          ]
        }
      ]
    },
    {
      "cell_type": "code",
      "source": [
        "# now we have both t test and z test out of this value\n",
        "p_value8_z = stats.norm.sf(abs(z_score8)) * 2\n",
        "p_value8_z"
      ],
      "metadata": {
        "colab": {
          "base_uri": "https://localhost:8080/"
        },
        "id": "5jVadVjPb7Z2",
        "outputId": "d90eab12-dc49-4ad6-ef87-962d01b132be"
      },
      "execution_count": 37,
      "outputs": [
        {
          "output_type": "execute_result",
          "data": {
            "text/plain": [
              "np.float64(0.7424326978058275)"
            ]
          },
          "metadata": {},
          "execution_count": 37
        }
      ]
    },
    {
      "cell_type": "code",
      "source": [
        "if p_value8_z < alpha:\n",
        "  print('we reject the null hypothesis')\n",
        "else:\n",
        "  print('fail to reject the null hypothesis')"
      ],
      "metadata": {
        "colab": {
          "base_uri": "https://localhost:8080/"
        },
        "id": "xC8jy6q3cAga",
        "outputId": "a8bbaffe-b252-4ad9-99cb-87cae53417f5"
      },
      "execution_count": 38,
      "outputs": [
        {
          "output_type": "stream",
          "name": "stdout",
          "text": [
            "fail to reject the null hypothesis\n"
          ]
        }
      ]
    },
    {
      "cell_type": "code",
      "source": [
        "#9  Write a Python function to calculate the confidence interval for a sample mean and explain its significance ?\n",
        "exam_scores1 = [78, 72, 81, 69, 76, 80, 74, 77, 73, 79,\n",
        "               71, 82, 68, 75, 78, 70, 74, 79, 77, 81,\n",
        "               69, 76, 73, 78, 80, 72, 74, 71, 77, 75]\n",
        "\n",
        "\n",
        "sam_mean9 = np.mean(exam_scores1)\n",
        "sam_mean9"
      ],
      "metadata": {
        "colab": {
          "base_uri": "https://localhost:8080/"
        },
        "id": "qZT2dyvhcJTS",
        "outputId": "b3272c6a-5282-4d21-c46b-b2ac04caa50d"
      },
      "execution_count": 39,
      "outputs": [
        {
          "output_type": "execute_result",
          "data": {
            "text/plain": [
              "np.float64(75.3)"
            ]
          },
          "metadata": {},
          "execution_count": 39
        }
      ]
    },
    {
      "cell_type": "code",
      "source": [
        "sam_std9 = np.std(exam_scores1,ddof=1)\n",
        "sam_size9 =len(exam_scores1)  - 1\n",
        "\n",
        "\n",
        "confidence = 0.95\n",
        "alpha = 1 - confidence\n",
        "alpha"
      ],
      "metadata": {
        "colab": {
          "base_uri": "https://localhost:8080/"
        },
        "id": "i56fpOfFcQMM",
        "outputId": "af7660c3-d787-48a3-d45b-9f4ec1ed07e9"
      },
      "execution_count": 40,
      "outputs": [
        {
          "output_type": "execute_result",
          "data": {
            "text/plain": [
              "0.050000000000000044"
            ]
          },
          "metadata": {},
          "execution_count": 40
        }
      ]
    },
    {
      "cell_type": "code",
      "source": [
        "t_critical9 = stats.t.ppf(1 - alpha / 2 , df = sample_size8)\n",
        "t_critical9"
      ],
      "metadata": {
        "colab": {
          "base_uri": "https://localhost:8080/"
        },
        "id": "41SuMH2UcWIi",
        "outputId": "54f2f72c-0966-47e4-84fc-e677a34a88fa"
      },
      "execution_count": 41,
      "outputs": [
        {
          "output_type": "execute_result",
          "data": {
            "text/plain": [
              "np.float64(2.0422724563012373)"
            ]
          },
          "metadata": {},
          "execution_count": 41
        }
      ]
    },
    {
      "cell_type": "code",
      "source": [
        "margin_error9 = t_critical9 * (sam_std9 / np.sqrt(sam_size9))\n",
        "margin_error9\n",
        "\n"
      ],
      "metadata": {
        "colab": {
          "base_uri": "https://localhost:8080/"
        },
        "id": "Fxkxv7pBcaCS",
        "outputId": "fc897104-0d17-43d3-8591-e4263d42cf4e"
      },
      "execution_count": 42,
      "outputs": [
        {
          "output_type": "execute_result",
          "data": {
            "text/plain": [
              "np.float64(1.4910769328940765)"
            ]
          },
          "metadata": {},
          "execution_count": 42
        }
      ]
    },
    {
      "cell_type": "code",
      "source": [
        "lower_bound = sam_mean9 - margin_error9\n",
        "upper_bound = sam_mean9 + margin_error9\n"
      ],
      "metadata": {
        "id": "fkuD0hy1cedJ"
      },
      "execution_count": 43,
      "outputs": []
    },
    {
      "cell_type": "code",
      "source": [
        "print(lower_bound, \" --\",upper_bound)\n",
        ""
      ],
      "metadata": {
        "colab": {
          "base_uri": "https://localhost:8080/"
        },
        "id": "4CjJXHIncjIr",
        "outputId": "8681cf59-5cab-4633-fbd4-5502f5f7ad76"
      },
      "execution_count": 44,
      "outputs": [
        {
          "output_type": "stream",
          "name": "stdout",
          "text": [
            "73.80892306710592  -- 76.79107693289407\n"
          ]
        }
      ]
    },
    {
      "cell_type": "code",
      "source": [
        "#10 . Write a Python program to calculate the margin of error for a given confidence level using sample data ?\n",
        "sample_data10 = np.random.normal(loc=45,scale=34,size=50)\n",
        "sample_data10"
      ],
      "metadata": {
        "colab": {
          "base_uri": "https://localhost:8080/"
        },
        "id": "mF2F5x2ncqrK",
        "outputId": "ca095fb7-0a29-4de4-b493-b7f52928e3a1"
      },
      "execution_count": 45,
      "outputs": [
        {
          "output_type": "execute_result",
          "data": {
            "text/plain": [
              "array([  57.9497507 ,   28.34182922,   19.16351967,   77.14332082,\n",
              "         26.04025901,   28.99511214,   81.10754428,   19.85692551,\n",
              "         81.3615696 ,   91.99339405,    2.54485057,   62.83617168,\n",
              "          4.09162975,   34.98089356,   75.75988523,    3.50467812,\n",
              "         68.61355753,   49.16844901,   79.21876008,   63.38209361,\n",
              "         52.2177369 ,   39.89253158,   57.06592446,  101.17497599,\n",
              "         21.48063409, -106.58081465,   51.15640883,    8.56782199,\n",
              "         42.11697377,   30.42275246,  -25.6115376 ,   22.28404178,\n",
              "         50.60335165,   51.97452233,   45.44552473,    1.0305231 ,\n",
              "         93.46358508,   24.51019238,   89.73581694,   56.49051953,\n",
              "        -11.7617581 ,  -28.09405474,  107.40684534,   40.33411509,\n",
              "         49.92434766,   85.75201248,   71.666529  ,   23.46313081,\n",
              "         16.72924978,   85.21462849])"
            ]
          },
          "metadata": {},
          "execution_count": 45
        }
      ]
    },
    {
      "cell_type": "code",
      "source": [
        "sam_mean10 = np.mean(sample_data10)\n",
        "sam_mean10\n",
        ""
      ],
      "metadata": {
        "colab": {
          "base_uri": "https://localhost:8080/"
        },
        "id": "jIwJI_bhc2QT",
        "outputId": "5bd46bb3-a0fd-4ec7-e0b8-ff6c09b9129d"
      },
      "execution_count": 46,
      "outputs": [
        {
          "output_type": "execute_result",
          "data": {
            "text/plain": [
              "np.float64(42.08261450579275)"
            ]
          },
          "metadata": {},
          "execution_count": 46
        }
      ]
    },
    {
      "cell_type": "code",
      "source": [
        "sample_std10 = np.std(sample_data10)\n",
        "sample_std10\n",
        ""
      ],
      "metadata": {
        "colab": {
          "base_uri": "https://localhost:8080/"
        },
        "id": "vaWyi12_c_K6",
        "outputId": "2ebbbf9e-69d2-4286-b5cf-3b1e93968b2d"
      },
      "execution_count": 47,
      "outputs": [
        {
          "output_type": "execute_result",
          "data": {
            "text/plain": [
              "np.float64(38.76051325945826)"
            ]
          },
          "metadata": {},
          "execution_count": 47
        }
      ]
    },
    {
      "cell_type": "code",
      "source": [
        "# now definning confidence interval =\n",
        "confidence = 0.95\n",
        "alpha10 = 1 - confidence\n",
        "\n",
        "\n"
      ],
      "metadata": {
        "id": "0dTlvwxPdEtS"
      },
      "execution_count": 49,
      "outputs": []
    },
    {
      "cell_type": "code",
      "source": [
        "t_critical10 = stats.t.ppf(1 - alpha10 / 2, df = sample_size10-1 )\n",
        "t_critical10"
      ],
      "metadata": {
        "colab": {
          "base_uri": "https://localhost:8080/",
          "height": 158
        },
        "id": "cJay9bPXdKCb",
        "outputId": "c8d06cfd-fd18-4d3c-9662-356e9f658261"
      },
      "execution_count": 50,
      "outputs": [
        {
          "output_type": "error",
          "ename": "NameError",
          "evalue": "name 'sample_size10' is not defined",
          "traceback": [
            "\u001b[0;31m---------------------------------------------------------------------------\u001b[0m",
            "\u001b[0;31mNameError\u001b[0m                                 Traceback (most recent call last)",
            "\u001b[0;32m<ipython-input-50-c35ddb2ad714>\u001b[0m in \u001b[0;36m<cell line: 0>\u001b[0;34m()\u001b[0m\n\u001b[0;32m----> 1\u001b[0;31m \u001b[0mt_critical10\u001b[0m \u001b[0;34m=\u001b[0m \u001b[0mstats\u001b[0m\u001b[0;34m.\u001b[0m\u001b[0mt\u001b[0m\u001b[0;34m.\u001b[0m\u001b[0mppf\u001b[0m\u001b[0;34m(\u001b[0m\u001b[0;36m1\u001b[0m \u001b[0;34m-\u001b[0m \u001b[0malpha10\u001b[0m \u001b[0;34m/\u001b[0m \u001b[0;36m2\u001b[0m\u001b[0;34m,\u001b[0m \u001b[0mdf\u001b[0m \u001b[0;34m=\u001b[0m \u001b[0msample_size10\u001b[0m\u001b[0;34m-\u001b[0m\u001b[0;36m1\u001b[0m \u001b[0;34m)\u001b[0m\u001b[0;34m\u001b[0m\u001b[0;34m\u001b[0m\u001b[0m\n\u001b[0m\u001b[1;32m      2\u001b[0m \u001b[0mt_critical10\u001b[0m\u001b[0;34m\u001b[0m\u001b[0;34m\u001b[0m\u001b[0m\n",
            "\u001b[0;31mNameError\u001b[0m: name 'sample_size10' is not defined"
          ]
        }
      ]
    },
    {
      "cell_type": "code",
      "source": [
        "SE10 = sample_std10 / np.sqrt(sample_size10)\n",
        "SE10"
      ],
      "metadata": {
        "colab": {
          "base_uri": "https://localhost:8080/",
          "height": 158
        },
        "id": "orySLEtVdVWX",
        "outputId": "87a46d56-7d5a-428d-fe0f-3d7e6c1ac024"
      },
      "execution_count": 51,
      "outputs": [
        {
          "output_type": "error",
          "ename": "NameError",
          "evalue": "name 'sample_size10' is not defined",
          "traceback": [
            "\u001b[0;31m---------------------------------------------------------------------------\u001b[0m",
            "\u001b[0;31mNameError\u001b[0m                                 Traceback (most recent call last)",
            "\u001b[0;32m<ipython-input-51-96652731aab0>\u001b[0m in \u001b[0;36m<cell line: 0>\u001b[0;34m()\u001b[0m\n\u001b[0;32m----> 1\u001b[0;31m \u001b[0mSE10\u001b[0m \u001b[0;34m=\u001b[0m \u001b[0msample_std10\u001b[0m \u001b[0;34m/\u001b[0m \u001b[0mnp\u001b[0m\u001b[0;34m.\u001b[0m\u001b[0msqrt\u001b[0m\u001b[0;34m(\u001b[0m\u001b[0msample_size10\u001b[0m\u001b[0;34m)\u001b[0m\u001b[0;34m\u001b[0m\u001b[0;34m\u001b[0m\u001b[0m\n\u001b[0m\u001b[1;32m      2\u001b[0m \u001b[0mSE10\u001b[0m\u001b[0;34m\u001b[0m\u001b[0;34m\u001b[0m\u001b[0m\n",
            "\u001b[0;31mNameError\u001b[0m: name 'sample_size10' is not defined"
          ]
        }
      ]
    },
    {
      "cell_type": "code",
      "source": [
        "ME10 = t_critical10 * SE10\n",
        "ME10\n",
        ""
      ],
      "metadata": {
        "colab": {
          "base_uri": "https://localhost:8080/",
          "height": 176
        },
        "id": "XYZNXOJEdi06",
        "outputId": "892fb2d9-4514-4e42-ec61-66f3d9c941a9"
      },
      "execution_count": 52,
      "outputs": [
        {
          "output_type": "error",
          "ename": "NameError",
          "evalue": "name 't_critical10' is not defined",
          "traceback": [
            "\u001b[0;31m---------------------------------------------------------------------------\u001b[0m",
            "\u001b[0;31mNameError\u001b[0m                                 Traceback (most recent call last)",
            "\u001b[0;32m<ipython-input-52-1448eac3806e>\u001b[0m in \u001b[0;36m<cell line: 0>\u001b[0;34m()\u001b[0m\n\u001b[0;32m----> 1\u001b[0;31m \u001b[0mME10\u001b[0m \u001b[0;34m=\u001b[0m \u001b[0mt_critical10\u001b[0m \u001b[0;34m*\u001b[0m \u001b[0mSE10\u001b[0m\u001b[0;34m\u001b[0m\u001b[0;34m\u001b[0m\u001b[0m\n\u001b[0m\u001b[1;32m      2\u001b[0m \u001b[0mME10\u001b[0m\u001b[0;34m\u001b[0m\u001b[0;34m\u001b[0m\u001b[0m\n\u001b[1;32m      3\u001b[0m \u001b[0;34m\u001b[0m\u001b[0m\n",
            "\u001b[0;31mNameError\u001b[0m: name 't_critical10' is not defined"
          ]
        }
      ]
    },
    {
      "cell_type": "code",
      "source": [
        "print('mergion error in this is :',ME10)\n",
        ""
      ],
      "metadata": {
        "colab": {
          "base_uri": "https://localhost:8080/",
          "height": 158
        },
        "id": "-wxwxX6pdotw",
        "outputId": "cc78fc0b-0bae-4401-dbc1-27d23e3c04e0"
      },
      "execution_count": 53,
      "outputs": [
        {
          "output_type": "error",
          "ename": "NameError",
          "evalue": "name 'ME10' is not defined",
          "traceback": [
            "\u001b[0;31m---------------------------------------------------------------------------\u001b[0m",
            "\u001b[0;31mNameError\u001b[0m                                 Traceback (most recent call last)",
            "\u001b[0;32m<ipython-input-53-651b34adc31c>\u001b[0m in \u001b[0;36m<cell line: 0>\u001b[0;34m()\u001b[0m\n\u001b[0;32m----> 1\u001b[0;31m \u001b[0mprint\u001b[0m\u001b[0;34m(\u001b[0m\u001b[0;34m'mergion error in this is :'\u001b[0m\u001b[0;34m,\u001b[0m\u001b[0mME10\u001b[0m\u001b[0;34m)\u001b[0m\u001b[0;34m\u001b[0m\u001b[0;34m\u001b[0m\u001b[0m\n\u001b[0m\u001b[1;32m      2\u001b[0m \u001b[0;34m\u001b[0m\u001b[0m\n",
            "\u001b[0;31mNameError\u001b[0m: name 'ME10' is not defined"
          ]
        }
      ]
    },
    {
      "cell_type": "code",
      "source": [
        "LB10 = sam_mean10 - ME10\n",
        "UP10 = sam_mean10 +  ME10\n",
        "\n",
        "\n",
        "print(LB10 ,\" -- \", UP10)  # these are the lower and upper bond in this given confidence interval\n",
        ""
      ],
      "metadata": {
        "colab": {
          "base_uri": "https://localhost:8080/",
          "height": 211
        },
        "id": "T7TC5psLduNB",
        "outputId": "9b239bcd-0692-4c54-a6ba-35cb8fe7301b"
      },
      "execution_count": 54,
      "outputs": [
        {
          "output_type": "error",
          "ename": "NameError",
          "evalue": "name 'ME10' is not defined",
          "traceback": [
            "\u001b[0;31m---------------------------------------------------------------------------\u001b[0m",
            "\u001b[0;31mNameError\u001b[0m                                 Traceback (most recent call last)",
            "\u001b[0;32m<ipython-input-54-2f7228496620>\u001b[0m in \u001b[0;36m<cell line: 0>\u001b[0;34m()\u001b[0m\n\u001b[0;32m----> 1\u001b[0;31m \u001b[0mLB10\u001b[0m \u001b[0;34m=\u001b[0m \u001b[0msam_mean10\u001b[0m \u001b[0;34m-\u001b[0m \u001b[0mME10\u001b[0m\u001b[0;34m\u001b[0m\u001b[0;34m\u001b[0m\u001b[0m\n\u001b[0m\u001b[1;32m      2\u001b[0m \u001b[0mUP10\u001b[0m \u001b[0;34m=\u001b[0m \u001b[0msam_mean10\u001b[0m \u001b[0;34m+\u001b[0m  \u001b[0mME10\u001b[0m\u001b[0;34m\u001b[0m\u001b[0;34m\u001b[0m\u001b[0m\n\u001b[1;32m      3\u001b[0m \u001b[0;34m\u001b[0m\u001b[0m\n\u001b[1;32m      4\u001b[0m \u001b[0;34m\u001b[0m\u001b[0m\n\u001b[1;32m      5\u001b[0m \u001b[0mprint\u001b[0m\u001b[0;34m(\u001b[0m\u001b[0mLB10\u001b[0m \u001b[0;34m,\u001b[0m\u001b[0;34m\" -- \"\u001b[0m\u001b[0;34m,\u001b[0m \u001b[0mUP10\u001b[0m\u001b[0;34m)\u001b[0m  \u001b[0;31m# these are the lower and upper bond in this given confidence interval\u001b[0m\u001b[0;34m\u001b[0m\u001b[0;34m\u001b[0m\u001b[0m\n",
            "\u001b[0;31mNameError\u001b[0m: name 'ME10' is not defined"
          ]
        }
      ]
    },
    {
      "cell_type": "code",
      "source": [
        "#11.  Implement a Bayesian inference method using Bayes' Theorem in Python and explain the process ?\n",
        "\n",
        "\n",
        "\n",
        "def byes_teorem (prior,likelihood,false_postive):\n",
        "  evidence = (likelihood * prior) + (false_postive * (1 - prior))\n",
        "  posterior = (likelihood * prior) / evidence\n",
        "\n",
        "  return posterior\n",
        "\n",
        "prior = 0.01\n",
        "likelihood = 0.95\n",
        "false_postive = 0.05\n",
        "\n",
        "\n",
        "byes_teorem(prior,likelihood,false_postive)"
      ],
      "metadata": {
        "colab": {
          "base_uri": "https://localhost:8080/"
        },
        "id": "8F7YpGtWdzeN",
        "outputId": "0ab4edb4-37f9-4a1f-9851-89941f34795d"
      },
      "execution_count": 55,
      "outputs": [
        {
          "output_type": "execute_result",
          "data": {
            "text/plain": [
              "0.16101694915254236"
            ]
          },
          "metadata": {},
          "execution_count": 55
        }
      ]
    },
    {
      "cell_type": "code",
      "source": [
        "#12.  Perform a Chi-square test for independence between two categorical variables in Python ?\n",
        "# peroming chi squre test on two catogrical data - QUSTION\n",
        "\n",
        "sns.get_dataset_names()"
      ],
      "metadata": {
        "colab": {
          "base_uri": "https://localhost:8080/"
        },
        "id": "8wbjlhWQd69Y",
        "outputId": "d054fc4e-18c8-4c57-b7e3-5cc8cc7b8fdd"
      },
      "execution_count": 56,
      "outputs": [
        {
          "output_type": "execute_result",
          "data": {
            "text/plain": [
              "['anagrams',\n",
              " 'anscombe',\n",
              " 'attention',\n",
              " 'brain_networks',\n",
              " 'car_crashes',\n",
              " 'diamonds',\n",
              " 'dots',\n",
              " 'dowjones',\n",
              " 'exercise',\n",
              " 'flights',\n",
              " 'fmri',\n",
              " 'geyser',\n",
              " 'glue',\n",
              " 'healthexp',\n",
              " 'iris',\n",
              " 'mpg',\n",
              " 'penguins',\n",
              " 'planets',\n",
              " 'seaice',\n",
              " 'taxis',\n",
              " 'tips',\n",
              " 'titanic']"
            ]
          },
          "metadata": {},
          "execution_count": 56
        }
      ]
    },
    {
      "cell_type": "code",
      "source": [
        "data12 = sns.load_dataset('titanic')\n",
        "\n",
        "\n",
        "data12.info()\n",
        ""
      ],
      "metadata": {
        "colab": {
          "base_uri": "https://localhost:8080/"
        },
        "id": "QlE8XiMXeEDc",
        "outputId": "27b74844-e174-4594-c4b1-5681129650ec"
      },
      "execution_count": 57,
      "outputs": [
        {
          "output_type": "stream",
          "name": "stdout",
          "text": [
            "<class 'pandas.core.frame.DataFrame'>\n",
            "RangeIndex: 891 entries, 0 to 890\n",
            "Data columns (total 15 columns):\n",
            " #   Column       Non-Null Count  Dtype   \n",
            "---  ------       --------------  -----   \n",
            " 0   survived     891 non-null    int64   \n",
            " 1   pclass       891 non-null    int64   \n",
            " 2   sex          891 non-null    object  \n",
            " 3   age          714 non-null    float64 \n",
            " 4   sibsp        891 non-null    int64   \n",
            " 5   parch        891 non-null    int64   \n",
            " 6   fare         891 non-null    float64 \n",
            " 7   embarked     889 non-null    object  \n",
            " 8   class        891 non-null    category\n",
            " 9   who          891 non-null    object  \n",
            " 10  adult_male   891 non-null    bool    \n",
            " 11  deck         203 non-null    category\n",
            " 12  embark_town  889 non-null    object  \n",
            " 13  alive        891 non-null    object  \n",
            " 14  alone        891 non-null    bool    \n",
            "dtypes: bool(2), category(2), float64(2), int64(4), object(5)\n",
            "memory usage: 80.7+ KB\n"
          ]
        }
      ]
    },
    {
      "cell_type": "code",
      "source": [
        "data12[['sex','embark_town']]\n",
        ""
      ],
      "metadata": {
        "colab": {
          "base_uri": "https://localhost:8080/",
          "height": 423
        },
        "id": "DWj6ZzNNeLfK",
        "outputId": "f91adaef-9f48-4768-cee4-96eb113a96fd"
      },
      "execution_count": 58,
      "outputs": [
        {
          "output_type": "execute_result",
          "data": {
            "text/plain": [
              "        sex  embark_town\n",
              "0      male  Southampton\n",
              "1    female    Cherbourg\n",
              "2    female  Southampton\n",
              "3    female  Southampton\n",
              "4      male  Southampton\n",
              "..      ...          ...\n",
              "886    male  Southampton\n",
              "887  female  Southampton\n",
              "888  female  Southampton\n",
              "889    male    Cherbourg\n",
              "890    male   Queenstown\n",
              "\n",
              "[891 rows x 2 columns]"
            ],
            "text/html": [
              "\n",
              "  <div id=\"df-7c8eaef8-d037-435b-9928-f5bdb424d96d\" class=\"colab-df-container\">\n",
              "    <div>\n",
              "<style scoped>\n",
              "    .dataframe tbody tr th:only-of-type {\n",
              "        vertical-align: middle;\n",
              "    }\n",
              "\n",
              "    .dataframe tbody tr th {\n",
              "        vertical-align: top;\n",
              "    }\n",
              "\n",
              "    .dataframe thead th {\n",
              "        text-align: right;\n",
              "    }\n",
              "</style>\n",
              "<table border=\"1\" class=\"dataframe\">\n",
              "  <thead>\n",
              "    <tr style=\"text-align: right;\">\n",
              "      <th></th>\n",
              "      <th>sex</th>\n",
              "      <th>embark_town</th>\n",
              "    </tr>\n",
              "  </thead>\n",
              "  <tbody>\n",
              "    <tr>\n",
              "      <th>0</th>\n",
              "      <td>male</td>\n",
              "      <td>Southampton</td>\n",
              "    </tr>\n",
              "    <tr>\n",
              "      <th>1</th>\n",
              "      <td>female</td>\n",
              "      <td>Cherbourg</td>\n",
              "    </tr>\n",
              "    <tr>\n",
              "      <th>2</th>\n",
              "      <td>female</td>\n",
              "      <td>Southampton</td>\n",
              "    </tr>\n",
              "    <tr>\n",
              "      <th>3</th>\n",
              "      <td>female</td>\n",
              "      <td>Southampton</td>\n",
              "    </tr>\n",
              "    <tr>\n",
              "      <th>4</th>\n",
              "      <td>male</td>\n",
              "      <td>Southampton</td>\n",
              "    </tr>\n",
              "    <tr>\n",
              "      <th>...</th>\n",
              "      <td>...</td>\n",
              "      <td>...</td>\n",
              "    </tr>\n",
              "    <tr>\n",
              "      <th>886</th>\n",
              "      <td>male</td>\n",
              "      <td>Southampton</td>\n",
              "    </tr>\n",
              "    <tr>\n",
              "      <th>887</th>\n",
              "      <td>female</td>\n",
              "      <td>Southampton</td>\n",
              "    </tr>\n",
              "    <tr>\n",
              "      <th>888</th>\n",
              "      <td>female</td>\n",
              "      <td>Southampton</td>\n",
              "    </tr>\n",
              "    <tr>\n",
              "      <th>889</th>\n",
              "      <td>male</td>\n",
              "      <td>Cherbourg</td>\n",
              "    </tr>\n",
              "    <tr>\n",
              "      <th>890</th>\n",
              "      <td>male</td>\n",
              "      <td>Queenstown</td>\n",
              "    </tr>\n",
              "  </tbody>\n",
              "</table>\n",
              "<p>891 rows × 2 columns</p>\n",
              "</div>\n",
              "    <div class=\"colab-df-buttons\">\n",
              "\n",
              "  <div class=\"colab-df-container\">\n",
              "    <button class=\"colab-df-convert\" onclick=\"convertToInteractive('df-7c8eaef8-d037-435b-9928-f5bdb424d96d')\"\n",
              "            title=\"Convert this dataframe to an interactive table.\"\n",
              "            style=\"display:none;\">\n",
              "\n",
              "  <svg xmlns=\"http://www.w3.org/2000/svg\" height=\"24px\" viewBox=\"0 -960 960 960\">\n",
              "    <path d=\"M120-120v-720h720v720H120Zm60-500h600v-160H180v160Zm220 220h160v-160H400v160Zm0 220h160v-160H400v160ZM180-400h160v-160H180v160Zm440 0h160v-160H620v160ZM180-180h160v-160H180v160Zm440 0h160v-160H620v160Z\"/>\n",
              "  </svg>\n",
              "    </button>\n",
              "\n",
              "  <style>\n",
              "    .colab-df-container {\n",
              "      display:flex;\n",
              "      gap: 12px;\n",
              "    }\n",
              "\n",
              "    .colab-df-convert {\n",
              "      background-color: #E8F0FE;\n",
              "      border: none;\n",
              "      border-radius: 50%;\n",
              "      cursor: pointer;\n",
              "      display: none;\n",
              "      fill: #1967D2;\n",
              "      height: 32px;\n",
              "      padding: 0 0 0 0;\n",
              "      width: 32px;\n",
              "    }\n",
              "\n",
              "    .colab-df-convert:hover {\n",
              "      background-color: #E2EBFA;\n",
              "      box-shadow: 0px 1px 2px rgba(60, 64, 67, 0.3), 0px 1px 3px 1px rgba(60, 64, 67, 0.15);\n",
              "      fill: #174EA6;\n",
              "    }\n",
              "\n",
              "    .colab-df-buttons div {\n",
              "      margin-bottom: 4px;\n",
              "    }\n",
              "\n",
              "    [theme=dark] .colab-df-convert {\n",
              "      background-color: #3B4455;\n",
              "      fill: #D2E3FC;\n",
              "    }\n",
              "\n",
              "    [theme=dark] .colab-df-convert:hover {\n",
              "      background-color: #434B5C;\n",
              "      box-shadow: 0px 1px 3px 1px rgba(0, 0, 0, 0.15);\n",
              "      filter: drop-shadow(0px 1px 2px rgba(0, 0, 0, 0.3));\n",
              "      fill: #FFFFFF;\n",
              "    }\n",
              "  </style>\n",
              "\n",
              "    <script>\n",
              "      const buttonEl =\n",
              "        document.querySelector('#df-7c8eaef8-d037-435b-9928-f5bdb424d96d button.colab-df-convert');\n",
              "      buttonEl.style.display =\n",
              "        google.colab.kernel.accessAllowed ? 'block' : 'none';\n",
              "\n",
              "      async function convertToInteractive(key) {\n",
              "        const element = document.querySelector('#df-7c8eaef8-d037-435b-9928-f5bdb424d96d');\n",
              "        const dataTable =\n",
              "          await google.colab.kernel.invokeFunction('convertToInteractive',\n",
              "                                                    [key], {});\n",
              "        if (!dataTable) return;\n",
              "\n",
              "        const docLinkHtml = 'Like what you see? Visit the ' +\n",
              "          '<a target=\"_blank\" href=https://colab.research.google.com/notebooks/data_table.ipynb>data table notebook</a>'\n",
              "          + ' to learn more about interactive tables.';\n",
              "        element.innerHTML = '';\n",
              "        dataTable['output_type'] = 'display_data';\n",
              "        await google.colab.output.renderOutput(dataTable, element);\n",
              "        const docLink = document.createElement('div');\n",
              "        docLink.innerHTML = docLinkHtml;\n",
              "        element.appendChild(docLink);\n",
              "      }\n",
              "    </script>\n",
              "  </div>\n",
              "\n",
              "\n",
              "<div id=\"df-5605c4e6-2242-4850-abbb-784bd4af8aff\">\n",
              "  <button class=\"colab-df-quickchart\" onclick=\"quickchart('df-5605c4e6-2242-4850-abbb-784bd4af8aff')\"\n",
              "            title=\"Suggest charts\"\n",
              "            style=\"display:none;\">\n",
              "\n",
              "<svg xmlns=\"http://www.w3.org/2000/svg\" height=\"24px\"viewBox=\"0 0 24 24\"\n",
              "     width=\"24px\">\n",
              "    <g>\n",
              "        <path d=\"M19 3H5c-1.1 0-2 .9-2 2v14c0 1.1.9 2 2 2h14c1.1 0 2-.9 2-2V5c0-1.1-.9-2-2-2zM9 17H7v-7h2v7zm4 0h-2V7h2v10zm4 0h-2v-4h2v4z\"/>\n",
              "    </g>\n",
              "</svg>\n",
              "  </button>\n",
              "\n",
              "<style>\n",
              "  .colab-df-quickchart {\n",
              "      --bg-color: #E8F0FE;\n",
              "      --fill-color: #1967D2;\n",
              "      --hover-bg-color: #E2EBFA;\n",
              "      --hover-fill-color: #174EA6;\n",
              "      --disabled-fill-color: #AAA;\n",
              "      --disabled-bg-color: #DDD;\n",
              "  }\n",
              "\n",
              "  [theme=dark] .colab-df-quickchart {\n",
              "      --bg-color: #3B4455;\n",
              "      --fill-color: #D2E3FC;\n",
              "      --hover-bg-color: #434B5C;\n",
              "      --hover-fill-color: #FFFFFF;\n",
              "      --disabled-bg-color: #3B4455;\n",
              "      --disabled-fill-color: #666;\n",
              "  }\n",
              "\n",
              "  .colab-df-quickchart {\n",
              "    background-color: var(--bg-color);\n",
              "    border: none;\n",
              "    border-radius: 50%;\n",
              "    cursor: pointer;\n",
              "    display: none;\n",
              "    fill: var(--fill-color);\n",
              "    height: 32px;\n",
              "    padding: 0;\n",
              "    width: 32px;\n",
              "  }\n",
              "\n",
              "  .colab-df-quickchart:hover {\n",
              "    background-color: var(--hover-bg-color);\n",
              "    box-shadow: 0 1px 2px rgba(60, 64, 67, 0.3), 0 1px 3px 1px rgba(60, 64, 67, 0.15);\n",
              "    fill: var(--button-hover-fill-color);\n",
              "  }\n",
              "\n",
              "  .colab-df-quickchart-complete:disabled,\n",
              "  .colab-df-quickchart-complete:disabled:hover {\n",
              "    background-color: var(--disabled-bg-color);\n",
              "    fill: var(--disabled-fill-color);\n",
              "    box-shadow: none;\n",
              "  }\n",
              "\n",
              "  .colab-df-spinner {\n",
              "    border: 2px solid var(--fill-color);\n",
              "    border-color: transparent;\n",
              "    border-bottom-color: var(--fill-color);\n",
              "    animation:\n",
              "      spin 1s steps(1) infinite;\n",
              "  }\n",
              "\n",
              "  @keyframes spin {\n",
              "    0% {\n",
              "      border-color: transparent;\n",
              "      border-bottom-color: var(--fill-color);\n",
              "      border-left-color: var(--fill-color);\n",
              "    }\n",
              "    20% {\n",
              "      border-color: transparent;\n",
              "      border-left-color: var(--fill-color);\n",
              "      border-top-color: var(--fill-color);\n",
              "    }\n",
              "    30% {\n",
              "      border-color: transparent;\n",
              "      border-left-color: var(--fill-color);\n",
              "      border-top-color: var(--fill-color);\n",
              "      border-right-color: var(--fill-color);\n",
              "    }\n",
              "    40% {\n",
              "      border-color: transparent;\n",
              "      border-right-color: var(--fill-color);\n",
              "      border-top-color: var(--fill-color);\n",
              "    }\n",
              "    60% {\n",
              "      border-color: transparent;\n",
              "      border-right-color: var(--fill-color);\n",
              "    }\n",
              "    80% {\n",
              "      border-color: transparent;\n",
              "      border-right-color: var(--fill-color);\n",
              "      border-bottom-color: var(--fill-color);\n",
              "    }\n",
              "    90% {\n",
              "      border-color: transparent;\n",
              "      border-bottom-color: var(--fill-color);\n",
              "    }\n",
              "  }\n",
              "</style>\n",
              "\n",
              "  <script>\n",
              "    async function quickchart(key) {\n",
              "      const quickchartButtonEl =\n",
              "        document.querySelector('#' + key + ' button');\n",
              "      quickchartButtonEl.disabled = true;  // To prevent multiple clicks.\n",
              "      quickchartButtonEl.classList.add('colab-df-spinner');\n",
              "      try {\n",
              "        const charts = await google.colab.kernel.invokeFunction(\n",
              "            'suggestCharts', [key], {});\n",
              "      } catch (error) {\n",
              "        console.error('Error during call to suggestCharts:', error);\n",
              "      }\n",
              "      quickchartButtonEl.classList.remove('colab-df-spinner');\n",
              "      quickchartButtonEl.classList.add('colab-df-quickchart-complete');\n",
              "    }\n",
              "    (() => {\n",
              "      let quickchartButtonEl =\n",
              "        document.querySelector('#df-5605c4e6-2242-4850-abbb-784bd4af8aff button');\n",
              "      quickchartButtonEl.style.display =\n",
              "        google.colab.kernel.accessAllowed ? 'block' : 'none';\n",
              "    })();\n",
              "  </script>\n",
              "</div>\n",
              "\n",
              "    </div>\n",
              "  </div>\n"
            ],
            "application/vnd.google.colaboratory.intrinsic+json": {
              "type": "dataframe",
              "summary": "{\n  \"name\": \"data12[['sex','embark_town']]\",\n  \"rows\": 891,\n  \"fields\": [\n    {\n      \"column\": \"sex\",\n      \"properties\": {\n        \"dtype\": \"category\",\n        \"num_unique_values\": 2,\n        \"samples\": [\n          \"female\",\n          \"male\"\n        ],\n        \"semantic_type\": \"\",\n        \"description\": \"\"\n      }\n    },\n    {\n      \"column\": \"embark_town\",\n      \"properties\": {\n        \"dtype\": \"category\",\n        \"num_unique_values\": 3,\n        \"samples\": [\n          \"Southampton\",\n          \"Cherbourg\"\n        ],\n        \"semantic_type\": \"\",\n        \"description\": \"\"\n      }\n    }\n  ]\n}"
            }
          },
          "metadata": {},
          "execution_count": 58
        }
      ]
    },
    {
      "cell_type": "code",
      "source": [
        "data12_table = pd.crosstab(data12['sex'],data12['embark_town'])\n",
        "data12_table\n",
        ""
      ],
      "metadata": {
        "colab": {
          "base_uri": "https://localhost:8080/",
          "height": 143
        },
        "id": "cE3Jl3N3eSuU",
        "outputId": "2837eb81-ba11-453d-e17b-7be3469d763f"
      },
      "execution_count": 59,
      "outputs": [
        {
          "output_type": "execute_result",
          "data": {
            "text/plain": [
              "embark_town  Cherbourg  Queenstown  Southampton\n",
              "sex                                            \n",
              "female              73          36          203\n",
              "male                95          41          441"
            ],
            "text/html": [
              "\n",
              "  <div id=\"df-7aa3e82f-50ea-4a89-8498-4d65b4e9ca0f\" class=\"colab-df-container\">\n",
              "    <div>\n",
              "<style scoped>\n",
              "    .dataframe tbody tr th:only-of-type {\n",
              "        vertical-align: middle;\n",
              "    }\n",
              "\n",
              "    .dataframe tbody tr th {\n",
              "        vertical-align: top;\n",
              "    }\n",
              "\n",
              "    .dataframe thead th {\n",
              "        text-align: right;\n",
              "    }\n",
              "</style>\n",
              "<table border=\"1\" class=\"dataframe\">\n",
              "  <thead>\n",
              "    <tr style=\"text-align: right;\">\n",
              "      <th>embark_town</th>\n",
              "      <th>Cherbourg</th>\n",
              "      <th>Queenstown</th>\n",
              "      <th>Southampton</th>\n",
              "    </tr>\n",
              "    <tr>\n",
              "      <th>sex</th>\n",
              "      <th></th>\n",
              "      <th></th>\n",
              "      <th></th>\n",
              "    </tr>\n",
              "  </thead>\n",
              "  <tbody>\n",
              "    <tr>\n",
              "      <th>female</th>\n",
              "      <td>73</td>\n",
              "      <td>36</td>\n",
              "      <td>203</td>\n",
              "    </tr>\n",
              "    <tr>\n",
              "      <th>male</th>\n",
              "      <td>95</td>\n",
              "      <td>41</td>\n",
              "      <td>441</td>\n",
              "    </tr>\n",
              "  </tbody>\n",
              "</table>\n",
              "</div>\n",
              "    <div class=\"colab-df-buttons\">\n",
              "\n",
              "  <div class=\"colab-df-container\">\n",
              "    <button class=\"colab-df-convert\" onclick=\"convertToInteractive('df-7aa3e82f-50ea-4a89-8498-4d65b4e9ca0f')\"\n",
              "            title=\"Convert this dataframe to an interactive table.\"\n",
              "            style=\"display:none;\">\n",
              "\n",
              "  <svg xmlns=\"http://www.w3.org/2000/svg\" height=\"24px\" viewBox=\"0 -960 960 960\">\n",
              "    <path d=\"M120-120v-720h720v720H120Zm60-500h600v-160H180v160Zm220 220h160v-160H400v160Zm0 220h160v-160H400v160ZM180-400h160v-160H180v160Zm440 0h160v-160H620v160ZM180-180h160v-160H180v160Zm440 0h160v-160H620v160Z\"/>\n",
              "  </svg>\n",
              "    </button>\n",
              "\n",
              "  <style>\n",
              "    .colab-df-container {\n",
              "      display:flex;\n",
              "      gap: 12px;\n",
              "    }\n",
              "\n",
              "    .colab-df-convert {\n",
              "      background-color: #E8F0FE;\n",
              "      border: none;\n",
              "      border-radius: 50%;\n",
              "      cursor: pointer;\n",
              "      display: none;\n",
              "      fill: #1967D2;\n",
              "      height: 32px;\n",
              "      padding: 0 0 0 0;\n",
              "      width: 32px;\n",
              "    }\n",
              "\n",
              "    .colab-df-convert:hover {\n",
              "      background-color: #E2EBFA;\n",
              "      box-shadow: 0px 1px 2px rgba(60, 64, 67, 0.3), 0px 1px 3px 1px rgba(60, 64, 67, 0.15);\n",
              "      fill: #174EA6;\n",
              "    }\n",
              "\n",
              "    .colab-df-buttons div {\n",
              "      margin-bottom: 4px;\n",
              "    }\n",
              "\n",
              "    [theme=dark] .colab-df-convert {\n",
              "      background-color: #3B4455;\n",
              "      fill: #D2E3FC;\n",
              "    }\n",
              "\n",
              "    [theme=dark] .colab-df-convert:hover {\n",
              "      background-color: #434B5C;\n",
              "      box-shadow: 0px 1px 3px 1px rgba(0, 0, 0, 0.15);\n",
              "      filter: drop-shadow(0px 1px 2px rgba(0, 0, 0, 0.3));\n",
              "      fill: #FFFFFF;\n",
              "    }\n",
              "  </style>\n",
              "\n",
              "    <script>\n",
              "      const buttonEl =\n",
              "        document.querySelector('#df-7aa3e82f-50ea-4a89-8498-4d65b4e9ca0f button.colab-df-convert');\n",
              "      buttonEl.style.display =\n",
              "        google.colab.kernel.accessAllowed ? 'block' : 'none';\n",
              "\n",
              "      async function convertToInteractive(key) {\n",
              "        const element = document.querySelector('#df-7aa3e82f-50ea-4a89-8498-4d65b4e9ca0f');\n",
              "        const dataTable =\n",
              "          await google.colab.kernel.invokeFunction('convertToInteractive',\n",
              "                                                    [key], {});\n",
              "        if (!dataTable) return;\n",
              "\n",
              "        const docLinkHtml = 'Like what you see? Visit the ' +\n",
              "          '<a target=\"_blank\" href=https://colab.research.google.com/notebooks/data_table.ipynb>data table notebook</a>'\n",
              "          + ' to learn more about interactive tables.';\n",
              "        element.innerHTML = '';\n",
              "        dataTable['output_type'] = 'display_data';\n",
              "        await google.colab.output.renderOutput(dataTable, element);\n",
              "        const docLink = document.createElement('div');\n",
              "        docLink.innerHTML = docLinkHtml;\n",
              "        element.appendChild(docLink);\n",
              "      }\n",
              "    </script>\n",
              "  </div>\n",
              "\n",
              "\n",
              "<div id=\"df-fde1f9db-8d51-4c82-9ffe-3da7e61e392e\">\n",
              "  <button class=\"colab-df-quickchart\" onclick=\"quickchart('df-fde1f9db-8d51-4c82-9ffe-3da7e61e392e')\"\n",
              "            title=\"Suggest charts\"\n",
              "            style=\"display:none;\">\n",
              "\n",
              "<svg xmlns=\"http://www.w3.org/2000/svg\" height=\"24px\"viewBox=\"0 0 24 24\"\n",
              "     width=\"24px\">\n",
              "    <g>\n",
              "        <path d=\"M19 3H5c-1.1 0-2 .9-2 2v14c0 1.1.9 2 2 2h14c1.1 0 2-.9 2-2V5c0-1.1-.9-2-2-2zM9 17H7v-7h2v7zm4 0h-2V7h2v10zm4 0h-2v-4h2v4z\"/>\n",
              "    </g>\n",
              "</svg>\n",
              "  </button>\n",
              "\n",
              "<style>\n",
              "  .colab-df-quickchart {\n",
              "      --bg-color: #E8F0FE;\n",
              "      --fill-color: #1967D2;\n",
              "      --hover-bg-color: #E2EBFA;\n",
              "      --hover-fill-color: #174EA6;\n",
              "      --disabled-fill-color: #AAA;\n",
              "      --disabled-bg-color: #DDD;\n",
              "  }\n",
              "\n",
              "  [theme=dark] .colab-df-quickchart {\n",
              "      --bg-color: #3B4455;\n",
              "      --fill-color: #D2E3FC;\n",
              "      --hover-bg-color: #434B5C;\n",
              "      --hover-fill-color: #FFFFFF;\n",
              "      --disabled-bg-color: #3B4455;\n",
              "      --disabled-fill-color: #666;\n",
              "  }\n",
              "\n",
              "  .colab-df-quickchart {\n",
              "    background-color: var(--bg-color);\n",
              "    border: none;\n",
              "    border-radius: 50%;\n",
              "    cursor: pointer;\n",
              "    display: none;\n",
              "    fill: var(--fill-color);\n",
              "    height: 32px;\n",
              "    padding: 0;\n",
              "    width: 32px;\n",
              "  }\n",
              "\n",
              "  .colab-df-quickchart:hover {\n",
              "    background-color: var(--hover-bg-color);\n",
              "    box-shadow: 0 1px 2px rgba(60, 64, 67, 0.3), 0 1px 3px 1px rgba(60, 64, 67, 0.15);\n",
              "    fill: var(--button-hover-fill-color);\n",
              "  }\n",
              "\n",
              "  .colab-df-quickchart-complete:disabled,\n",
              "  .colab-df-quickchart-complete:disabled:hover {\n",
              "    background-color: var(--disabled-bg-color);\n",
              "    fill: var(--disabled-fill-color);\n",
              "    box-shadow: none;\n",
              "  }\n",
              "\n",
              "  .colab-df-spinner {\n",
              "    border: 2px solid var(--fill-color);\n",
              "    border-color: transparent;\n",
              "    border-bottom-color: var(--fill-color);\n",
              "    animation:\n",
              "      spin 1s steps(1) infinite;\n",
              "  }\n",
              "\n",
              "  @keyframes spin {\n",
              "    0% {\n",
              "      border-color: transparent;\n",
              "      border-bottom-color: var(--fill-color);\n",
              "      border-left-color: var(--fill-color);\n",
              "    }\n",
              "    20% {\n",
              "      border-color: transparent;\n",
              "      border-left-color: var(--fill-color);\n",
              "      border-top-color: var(--fill-color);\n",
              "    }\n",
              "    30% {\n",
              "      border-color: transparent;\n",
              "      border-left-color: var(--fill-color);\n",
              "      border-top-color: var(--fill-color);\n",
              "      border-right-color: var(--fill-color);\n",
              "    }\n",
              "    40% {\n",
              "      border-color: transparent;\n",
              "      border-right-color: var(--fill-color);\n",
              "      border-top-color: var(--fill-color);\n",
              "    }\n",
              "    60% {\n",
              "      border-color: transparent;\n",
              "      border-right-color: var(--fill-color);\n",
              "    }\n",
              "    80% {\n",
              "      border-color: transparent;\n",
              "      border-right-color: var(--fill-color);\n",
              "      border-bottom-color: var(--fill-color);\n",
              "    }\n",
              "    90% {\n",
              "      border-color: transparent;\n",
              "      border-bottom-color: var(--fill-color);\n",
              "    }\n",
              "  }\n",
              "</style>\n",
              "\n",
              "  <script>\n",
              "    async function quickchart(key) {\n",
              "      const quickchartButtonEl =\n",
              "        document.querySelector('#' + key + ' button');\n",
              "      quickchartButtonEl.disabled = true;  // To prevent multiple clicks.\n",
              "      quickchartButtonEl.classList.add('colab-df-spinner');\n",
              "      try {\n",
              "        const charts = await google.colab.kernel.invokeFunction(\n",
              "            'suggestCharts', [key], {});\n",
              "      } catch (error) {\n",
              "        console.error('Error during call to suggestCharts:', error);\n",
              "      }\n",
              "      quickchartButtonEl.classList.remove('colab-df-spinner');\n",
              "      quickchartButtonEl.classList.add('colab-df-quickchart-complete');\n",
              "    }\n",
              "    (() => {\n",
              "      let quickchartButtonEl =\n",
              "        document.querySelector('#df-fde1f9db-8d51-4c82-9ffe-3da7e61e392e button');\n",
              "      quickchartButtonEl.style.display =\n",
              "        google.colab.kernel.accessAllowed ? 'block' : 'none';\n",
              "    })();\n",
              "  </script>\n",
              "</div>\n",
              "\n",
              "  <div id=\"id_5300e331-ccb7-4498-9644-0e7a7e7e30c6\">\n",
              "    <style>\n",
              "      .colab-df-generate {\n",
              "        background-color: #E8F0FE;\n",
              "        border: none;\n",
              "        border-radius: 50%;\n",
              "        cursor: pointer;\n",
              "        display: none;\n",
              "        fill: #1967D2;\n",
              "        height: 32px;\n",
              "        padding: 0 0 0 0;\n",
              "        width: 32px;\n",
              "      }\n",
              "\n",
              "      .colab-df-generate:hover {\n",
              "        background-color: #E2EBFA;\n",
              "        box-shadow: 0px 1px 2px rgba(60, 64, 67, 0.3), 0px 1px 3px 1px rgba(60, 64, 67, 0.15);\n",
              "        fill: #174EA6;\n",
              "      }\n",
              "\n",
              "      [theme=dark] .colab-df-generate {\n",
              "        background-color: #3B4455;\n",
              "        fill: #D2E3FC;\n",
              "      }\n",
              "\n",
              "      [theme=dark] .colab-df-generate:hover {\n",
              "        background-color: #434B5C;\n",
              "        box-shadow: 0px 1px 3px 1px rgba(0, 0, 0, 0.15);\n",
              "        filter: drop-shadow(0px 1px 2px rgba(0, 0, 0, 0.3));\n",
              "        fill: #FFFFFF;\n",
              "      }\n",
              "    </style>\n",
              "    <button class=\"colab-df-generate\" onclick=\"generateWithVariable('data12_table')\"\n",
              "            title=\"Generate code using this dataframe.\"\n",
              "            style=\"display:none;\">\n",
              "\n",
              "  <svg xmlns=\"http://www.w3.org/2000/svg\" height=\"24px\"viewBox=\"0 0 24 24\"\n",
              "       width=\"24px\">\n",
              "    <path d=\"M7,19H8.4L18.45,9,17,7.55,7,17.6ZM5,21V16.75L18.45,3.32a2,2,0,0,1,2.83,0l1.4,1.43a1.91,1.91,0,0,1,.58,1.4,1.91,1.91,0,0,1-.58,1.4L9.25,21ZM18.45,9,17,7.55Zm-12,3A5.31,5.31,0,0,0,4.9,8.1,5.31,5.31,0,0,0,1,6.5,5.31,5.31,0,0,0,4.9,4.9,5.31,5.31,0,0,0,6.5,1,5.31,5.31,0,0,0,8.1,4.9,5.31,5.31,0,0,0,12,6.5,5.46,5.46,0,0,0,6.5,12Z\"/>\n",
              "  </svg>\n",
              "    </button>\n",
              "    <script>\n",
              "      (() => {\n",
              "      const buttonEl =\n",
              "        document.querySelector('#id_5300e331-ccb7-4498-9644-0e7a7e7e30c6 button.colab-df-generate');\n",
              "      buttonEl.style.display =\n",
              "        google.colab.kernel.accessAllowed ? 'block' : 'none';\n",
              "\n",
              "      buttonEl.onclick = () => {\n",
              "        google.colab.notebook.generateWithVariable('data12_table');\n",
              "      }\n",
              "      })();\n",
              "    </script>\n",
              "  </div>\n",
              "\n",
              "    </div>\n",
              "  </div>\n"
            ],
            "application/vnd.google.colaboratory.intrinsic+json": {
              "type": "dataframe",
              "variable_name": "data12_table",
              "summary": "{\n  \"name\": \"data12_table\",\n  \"rows\": 2,\n  \"fields\": [\n    {\n      \"column\": \"sex\",\n      \"properties\": {\n        \"dtype\": \"string\",\n        \"num_unique_values\": 2,\n        \"samples\": [\n          \"male\",\n          \"female\"\n        ],\n        \"semantic_type\": \"\",\n        \"description\": \"\"\n      }\n    },\n    {\n      \"column\": \"Cherbourg\",\n      \"properties\": {\n        \"dtype\": \"number\",\n        \"std\": 15,\n        \"min\": 73,\n        \"max\": 95,\n        \"num_unique_values\": 2,\n        \"samples\": [\n          95,\n          73\n        ],\n        \"semantic_type\": \"\",\n        \"description\": \"\"\n      }\n    },\n    {\n      \"column\": \"Queenstown\",\n      \"properties\": {\n        \"dtype\": \"number\",\n        \"std\": 3,\n        \"min\": 36,\n        \"max\": 41,\n        \"num_unique_values\": 2,\n        \"samples\": [\n          41,\n          36\n        ],\n        \"semantic_type\": \"\",\n        \"description\": \"\"\n      }\n    },\n    {\n      \"column\": \"Southampton\",\n      \"properties\": {\n        \"dtype\": \"number\",\n        \"std\": 168,\n        \"min\": 203,\n        \"max\": 441,\n        \"num_unique_values\": 2,\n        \"samples\": [\n          441,\n          203\n        ],\n        \"semantic_type\": \"\",\n        \"description\": \"\"\n      }\n    }\n  ]\n}"
            }
          },
          "metadata": {},
          "execution_count": 59
        }
      ]
    },
    {
      "cell_type": "code",
      "source": [
        "observed_values = data12_table.values\n",
        "observed_values\n",
        ""
      ],
      "metadata": {
        "colab": {
          "base_uri": "https://localhost:8080/"
        },
        "id": "KqsNQInKeaPk",
        "outputId": "cb26fb32-47a4-4ca1-87d3-159a8951ee41"
      },
      "execution_count": 60,
      "outputs": [
        {
          "output_type": "execute_result",
          "data": {
            "text/plain": [
              "array([[ 73,  36, 203],\n",
              "       [ 95,  41, 441]])"
            ]
          },
          "metadata": {},
          "execution_count": 60
        }
      ]
    },
    {
      "cell_type": "code",
      "source": [
        "from scipy.stats import chi2\n",
        "\n",
        "\n",
        "# now expected values\n",
        "stats_test12,p12,dof12,expected_value12 = stats.chi2_contingency(observed_values)\n",
        "\n",
        "\n",
        "\n",
        "expected_value12"
      ],
      "metadata": {
        "colab": {
          "base_uri": "https://localhost:8080/"
        },
        "id": "CexlXRbGegkC",
        "outputId": "7f5b171b-d8b1-4ee0-84f6-cd7343b30f68"
      },
      "execution_count": 61,
      "outputs": [
        {
          "output_type": "execute_result",
          "data": {
            "text/plain": [
              "array([[ 58.96062992,  27.02362205, 226.01574803],\n",
              "       [109.03937008,  49.97637795, 417.98425197]])"
            ]
          },
          "metadata": {},
          "execution_count": 61
        }
      ]
    },
    {
      "cell_type": "code",
      "source": [
        "dof12\n",
        ""
      ],
      "metadata": {
        "colab": {
          "base_uri": "https://localhost:8080/"
        },
        "id": "DEwD2ycEepcb",
        "outputId": "ebcde46a-bf67-4a10-d67a-59b843ad6d2e"
      },
      "execution_count": 62,
      "outputs": [
        {
          "output_type": "execute_result",
          "data": {
            "text/plain": [
              "2"
            ]
          },
          "metadata": {},
          "execution_count": 62
        }
      ]
    },
    {
      "cell_type": "code",
      "source": [
        "alpha12  = 0.05\n",
        "alpha12"
      ],
      "metadata": {
        "colab": {
          "base_uri": "https://localhost:8080/"
        },
        "id": "NH_mdkE9ewdW",
        "outputId": "32e7d873-d1d6-4bf9-d235-0c0d8ffaaa22"
      },
      "execution_count": 63,
      "outputs": [
        {
          "output_type": "execute_result",
          "data": {
            "text/plain": [
              "0.05"
            ]
          },
          "metadata": {},
          "execution_count": 63
        }
      ]
    },
    {
      "cell_type": "code",
      "source": [
        "# now making these value in key_value pair in order to add them together\n",
        "for a in zip(observed_values,expected_value12):\n",
        "  print(a)"
      ],
      "metadata": {
        "colab": {
          "base_uri": "https://localhost:8080/"
        },
        "id": "He5lBnuce0zx",
        "outputId": "ec0c535e-6c91-49a4-8641-a85708ed2b3e"
      },
      "execution_count": 64,
      "outputs": [
        {
          "output_type": "stream",
          "name": "stdout",
          "text": [
            "(array([ 73,  36, 203]), array([ 58.96062992,  27.02362205, 226.01574803]))\n",
            "(array([ 95,  41, 441]), array([109.03937008,  49.97637795, 417.98425197]))\n"
          ]
        }
      ]
    },
    {
      "cell_type": "code",
      "source": [
        "chisqure_test = sum([(0- e) ** 2 / e for o,e in zip(observed_values,expected_value12)])\n",
        "chisqure_test"
      ],
      "metadata": {
        "colab": {
          "base_uri": "https://localhost:8080/"
        },
        "id": "CLOL7AOVe5Ok",
        "outputId": "6ed6092d-5994-4fb3-880f-7860af1bf602"
      },
      "execution_count": 65,
      "outputs": [
        {
          "output_type": "execute_result",
          "data": {
            "text/plain": [
              "array([168.,  77., 644.])"
            ]
          },
          "metadata": {},
          "execution_count": 65
        }
      ]
    },
    {
      "cell_type": "code",
      "source": [
        "chisqure_stats = chisqure_test[0] + chisqure_test[1] + chisqure_test[2]\n",
        "chisqure_stats"
      ],
      "metadata": {
        "colab": {
          "base_uri": "https://localhost:8080/"
        },
        "id": "k67c9fC8e9v_",
        "outputId": "32939732-90cb-429b-a9c0-bf6b2bf747fb"
      },
      "execution_count": 66,
      "outputs": [
        {
          "output_type": "execute_result",
          "data": {
            "text/plain": [
              "np.float64(889.0)"
            ]
          },
          "metadata": {},
          "execution_count": 66
        }
      ]
    },
    {
      "cell_type": "code",
      "source": [
        "chi_critical = chi2.ppf(1 - alpha12 ,dof12)\n",
        "\n",
        "\n",
        "if chisqure_stats > chi_critical:\n",
        "  print('we reject the null hypothesis')\n",
        "else:\n",
        "  print('fail to reject the null hypothesis')\n",
        ""
      ],
      "metadata": {
        "colab": {
          "base_uri": "https://localhost:8080/"
        },
        "id": "ADgnksm4fBmf",
        "outputId": "67ab0048-6d8e-4afe-aa05-5d21c0b2aac8"
      },
      "execution_count": 67,
      "outputs": [
        {
          "output_type": "stream",
          "name": "stdout",
          "text": [
            "we reject the null hypothesis\n"
          ]
        }
      ]
    },
    {
      "cell_type": "code",
      "source": [
        "#13  Write a Python program to calculate the expected frequencies for a Chi-square test based on observed data ?\n",
        "sns.get_dataset_names()\n",
        ""
      ],
      "metadata": {
        "colab": {
          "base_uri": "https://localhost:8080/"
        },
        "id": "t5lQj1RqfUm8",
        "outputId": "d80e5574-0d5b-46f6-8f5e-ac422d12f79d"
      },
      "execution_count": 68,
      "outputs": [
        {
          "output_type": "execute_result",
          "data": {
            "text/plain": [
              "['anagrams',\n",
              " 'anscombe',\n",
              " 'attention',\n",
              " 'brain_networks',\n",
              " 'car_crashes',\n",
              " 'diamonds',\n",
              " 'dots',\n",
              " 'dowjones',\n",
              " 'exercise',\n",
              " 'flights',\n",
              " 'fmri',\n",
              " 'geyser',\n",
              " 'glue',\n",
              " 'healthexp',\n",
              " 'iris',\n",
              " 'mpg',\n",
              " 'penguins',\n",
              " 'planets',\n",
              " 'seaice',\n",
              " 'taxis',\n",
              " 'tips',\n",
              " 'titanic']"
            ]
          },
          "metadata": {},
          "execution_count": 68
        }
      ]
    },
    {
      "cell_type": "code",
      "source": [
        "data13 =sns.load_dataset('taxis')\n",
        "\n",
        "\n",
        "# now two catogircal data\n",
        "data13[['color','payment']]\n",
        ""
      ],
      "metadata": {
        "colab": {
          "base_uri": "https://localhost:8080/",
          "height": 423
        },
        "id": "ihtd8MvOf6DA",
        "outputId": "63cb6917-8763-4735-eb07-f83ab45fe6cb"
      },
      "execution_count": 69,
      "outputs": [
        {
          "output_type": "execute_result",
          "data": {
            "text/plain": [
              "       color      payment\n",
              "0     yellow  credit card\n",
              "1     yellow         cash\n",
              "2     yellow  credit card\n",
              "3     yellow  credit card\n",
              "4     yellow  credit card\n",
              "...      ...          ...\n",
              "6428   green  credit card\n",
              "6429   green  credit card\n",
              "6430   green         cash\n",
              "6431   green  credit card\n",
              "6432   green  credit card\n",
              "\n",
              "[6433 rows x 2 columns]"
            ],
            "text/html": [
              "\n",
              "  <div id=\"df-cabf2ab6-0f50-4de6-8f86-051cd5787c2e\" class=\"colab-df-container\">\n",
              "    <div>\n",
              "<style scoped>\n",
              "    .dataframe tbody tr th:only-of-type {\n",
              "        vertical-align: middle;\n",
              "    }\n",
              "\n",
              "    .dataframe tbody tr th {\n",
              "        vertical-align: top;\n",
              "    }\n",
              "\n",
              "    .dataframe thead th {\n",
              "        text-align: right;\n",
              "    }\n",
              "</style>\n",
              "<table border=\"1\" class=\"dataframe\">\n",
              "  <thead>\n",
              "    <tr style=\"text-align: right;\">\n",
              "      <th></th>\n",
              "      <th>color</th>\n",
              "      <th>payment</th>\n",
              "    </tr>\n",
              "  </thead>\n",
              "  <tbody>\n",
              "    <tr>\n",
              "      <th>0</th>\n",
              "      <td>yellow</td>\n",
              "      <td>credit card</td>\n",
              "    </tr>\n",
              "    <tr>\n",
              "      <th>1</th>\n",
              "      <td>yellow</td>\n",
              "      <td>cash</td>\n",
              "    </tr>\n",
              "    <tr>\n",
              "      <th>2</th>\n",
              "      <td>yellow</td>\n",
              "      <td>credit card</td>\n",
              "    </tr>\n",
              "    <tr>\n",
              "      <th>3</th>\n",
              "      <td>yellow</td>\n",
              "      <td>credit card</td>\n",
              "    </tr>\n",
              "    <tr>\n",
              "      <th>4</th>\n",
              "      <td>yellow</td>\n",
              "      <td>credit card</td>\n",
              "    </tr>\n",
              "    <tr>\n",
              "      <th>...</th>\n",
              "      <td>...</td>\n",
              "      <td>...</td>\n",
              "    </tr>\n",
              "    <tr>\n",
              "      <th>6428</th>\n",
              "      <td>green</td>\n",
              "      <td>credit card</td>\n",
              "    </tr>\n",
              "    <tr>\n",
              "      <th>6429</th>\n",
              "      <td>green</td>\n",
              "      <td>credit card</td>\n",
              "    </tr>\n",
              "    <tr>\n",
              "      <th>6430</th>\n",
              "      <td>green</td>\n",
              "      <td>cash</td>\n",
              "    </tr>\n",
              "    <tr>\n",
              "      <th>6431</th>\n",
              "      <td>green</td>\n",
              "      <td>credit card</td>\n",
              "    </tr>\n",
              "    <tr>\n",
              "      <th>6432</th>\n",
              "      <td>green</td>\n",
              "      <td>credit card</td>\n",
              "    </tr>\n",
              "  </tbody>\n",
              "</table>\n",
              "<p>6433 rows × 2 columns</p>\n",
              "</div>\n",
              "    <div class=\"colab-df-buttons\">\n",
              "\n",
              "  <div class=\"colab-df-container\">\n",
              "    <button class=\"colab-df-convert\" onclick=\"convertToInteractive('df-cabf2ab6-0f50-4de6-8f86-051cd5787c2e')\"\n",
              "            title=\"Convert this dataframe to an interactive table.\"\n",
              "            style=\"display:none;\">\n",
              "\n",
              "  <svg xmlns=\"http://www.w3.org/2000/svg\" height=\"24px\" viewBox=\"0 -960 960 960\">\n",
              "    <path d=\"M120-120v-720h720v720H120Zm60-500h600v-160H180v160Zm220 220h160v-160H400v160Zm0 220h160v-160H400v160ZM180-400h160v-160H180v160Zm440 0h160v-160H620v160ZM180-180h160v-160H180v160Zm440 0h160v-160H620v160Z\"/>\n",
              "  </svg>\n",
              "    </button>\n",
              "\n",
              "  <style>\n",
              "    .colab-df-container {\n",
              "      display:flex;\n",
              "      gap: 12px;\n",
              "    }\n",
              "\n",
              "    .colab-df-convert {\n",
              "      background-color: #E8F0FE;\n",
              "      border: none;\n",
              "      border-radius: 50%;\n",
              "      cursor: pointer;\n",
              "      display: none;\n",
              "      fill: #1967D2;\n",
              "      height: 32px;\n",
              "      padding: 0 0 0 0;\n",
              "      width: 32px;\n",
              "    }\n",
              "\n",
              "    .colab-df-convert:hover {\n",
              "      background-color: #E2EBFA;\n",
              "      box-shadow: 0px 1px 2px rgba(60, 64, 67, 0.3), 0px 1px 3px 1px rgba(60, 64, 67, 0.15);\n",
              "      fill: #174EA6;\n",
              "    }\n",
              "\n",
              "    .colab-df-buttons div {\n",
              "      margin-bottom: 4px;\n",
              "    }\n",
              "\n",
              "    [theme=dark] .colab-df-convert {\n",
              "      background-color: #3B4455;\n",
              "      fill: #D2E3FC;\n",
              "    }\n",
              "\n",
              "    [theme=dark] .colab-df-convert:hover {\n",
              "      background-color: #434B5C;\n",
              "      box-shadow: 0px 1px 3px 1px rgba(0, 0, 0, 0.15);\n",
              "      filter: drop-shadow(0px 1px 2px rgba(0, 0, 0, 0.3));\n",
              "      fill: #FFFFFF;\n",
              "    }\n",
              "  </style>\n",
              "\n",
              "    <script>\n",
              "      const buttonEl =\n",
              "        document.querySelector('#df-cabf2ab6-0f50-4de6-8f86-051cd5787c2e button.colab-df-convert');\n",
              "      buttonEl.style.display =\n",
              "        google.colab.kernel.accessAllowed ? 'block' : 'none';\n",
              "\n",
              "      async function convertToInteractive(key) {\n",
              "        const element = document.querySelector('#df-cabf2ab6-0f50-4de6-8f86-051cd5787c2e');\n",
              "        const dataTable =\n",
              "          await google.colab.kernel.invokeFunction('convertToInteractive',\n",
              "                                                    [key], {});\n",
              "        if (!dataTable) return;\n",
              "\n",
              "        const docLinkHtml = 'Like what you see? Visit the ' +\n",
              "          '<a target=\"_blank\" href=https://colab.research.google.com/notebooks/data_table.ipynb>data table notebook</a>'\n",
              "          + ' to learn more about interactive tables.';\n",
              "        element.innerHTML = '';\n",
              "        dataTable['output_type'] = 'display_data';\n",
              "        await google.colab.output.renderOutput(dataTable, element);\n",
              "        const docLink = document.createElement('div');\n",
              "        docLink.innerHTML = docLinkHtml;\n",
              "        element.appendChild(docLink);\n",
              "      }\n",
              "    </script>\n",
              "  </div>\n",
              "\n",
              "\n",
              "<div id=\"df-f8be3ae3-de92-4daa-b7be-faa488bfa2e5\">\n",
              "  <button class=\"colab-df-quickchart\" onclick=\"quickchart('df-f8be3ae3-de92-4daa-b7be-faa488bfa2e5')\"\n",
              "            title=\"Suggest charts\"\n",
              "            style=\"display:none;\">\n",
              "\n",
              "<svg xmlns=\"http://www.w3.org/2000/svg\" height=\"24px\"viewBox=\"0 0 24 24\"\n",
              "     width=\"24px\">\n",
              "    <g>\n",
              "        <path d=\"M19 3H5c-1.1 0-2 .9-2 2v14c0 1.1.9 2 2 2h14c1.1 0 2-.9 2-2V5c0-1.1-.9-2-2-2zM9 17H7v-7h2v7zm4 0h-2V7h2v10zm4 0h-2v-4h2v4z\"/>\n",
              "    </g>\n",
              "</svg>\n",
              "  </button>\n",
              "\n",
              "<style>\n",
              "  .colab-df-quickchart {\n",
              "      --bg-color: #E8F0FE;\n",
              "      --fill-color: #1967D2;\n",
              "      --hover-bg-color: #E2EBFA;\n",
              "      --hover-fill-color: #174EA6;\n",
              "      --disabled-fill-color: #AAA;\n",
              "      --disabled-bg-color: #DDD;\n",
              "  }\n",
              "\n",
              "  [theme=dark] .colab-df-quickchart {\n",
              "      --bg-color: #3B4455;\n",
              "      --fill-color: #D2E3FC;\n",
              "      --hover-bg-color: #434B5C;\n",
              "      --hover-fill-color: #FFFFFF;\n",
              "      --disabled-bg-color: #3B4455;\n",
              "      --disabled-fill-color: #666;\n",
              "  }\n",
              "\n",
              "  .colab-df-quickchart {\n",
              "    background-color: var(--bg-color);\n",
              "    border: none;\n",
              "    border-radius: 50%;\n",
              "    cursor: pointer;\n",
              "    display: none;\n",
              "    fill: var(--fill-color);\n",
              "    height: 32px;\n",
              "    padding: 0;\n",
              "    width: 32px;\n",
              "  }\n",
              "\n",
              "  .colab-df-quickchart:hover {\n",
              "    background-color: var(--hover-bg-color);\n",
              "    box-shadow: 0 1px 2px rgba(60, 64, 67, 0.3), 0 1px 3px 1px rgba(60, 64, 67, 0.15);\n",
              "    fill: var(--button-hover-fill-color);\n",
              "  }\n",
              "\n",
              "  .colab-df-quickchart-complete:disabled,\n",
              "  .colab-df-quickchart-complete:disabled:hover {\n",
              "    background-color: var(--disabled-bg-color);\n",
              "    fill: var(--disabled-fill-color);\n",
              "    box-shadow: none;\n",
              "  }\n",
              "\n",
              "  .colab-df-spinner {\n",
              "    border: 2px solid var(--fill-color);\n",
              "    border-color: transparent;\n",
              "    border-bottom-color: var(--fill-color);\n",
              "    animation:\n",
              "      spin 1s steps(1) infinite;\n",
              "  }\n",
              "\n",
              "  @keyframes spin {\n",
              "    0% {\n",
              "      border-color: transparent;\n",
              "      border-bottom-color: var(--fill-color);\n",
              "      border-left-color: var(--fill-color);\n",
              "    }\n",
              "    20% {\n",
              "      border-color: transparent;\n",
              "      border-left-color: var(--fill-color);\n",
              "      border-top-color: var(--fill-color);\n",
              "    }\n",
              "    30% {\n",
              "      border-color: transparent;\n",
              "      border-left-color: var(--fill-color);\n",
              "      border-top-color: var(--fill-color);\n",
              "      border-right-color: var(--fill-color);\n",
              "    }\n",
              "    40% {\n",
              "      border-color: transparent;\n",
              "      border-right-color: var(--fill-color);\n",
              "      border-top-color: var(--fill-color);\n",
              "    }\n",
              "    60% {\n",
              "      border-color: transparent;\n",
              "      border-right-color: var(--fill-color);\n",
              "    }\n",
              "    80% {\n",
              "      border-color: transparent;\n",
              "      border-right-color: var(--fill-color);\n",
              "      border-bottom-color: var(--fill-color);\n",
              "    }\n",
              "    90% {\n",
              "      border-color: transparent;\n",
              "      border-bottom-color: var(--fill-color);\n",
              "    }\n",
              "  }\n",
              "</style>\n",
              "\n",
              "  <script>\n",
              "    async function quickchart(key) {\n",
              "      const quickchartButtonEl =\n",
              "        document.querySelector('#' + key + ' button');\n",
              "      quickchartButtonEl.disabled = true;  // To prevent multiple clicks.\n",
              "      quickchartButtonEl.classList.add('colab-df-spinner');\n",
              "      try {\n",
              "        const charts = await google.colab.kernel.invokeFunction(\n",
              "            'suggestCharts', [key], {});\n",
              "      } catch (error) {\n",
              "        console.error('Error during call to suggestCharts:', error);\n",
              "      }\n",
              "      quickchartButtonEl.classList.remove('colab-df-spinner');\n",
              "      quickchartButtonEl.classList.add('colab-df-quickchart-complete');\n",
              "    }\n",
              "    (() => {\n",
              "      let quickchartButtonEl =\n",
              "        document.querySelector('#df-f8be3ae3-de92-4daa-b7be-faa488bfa2e5 button');\n",
              "      quickchartButtonEl.style.display =\n",
              "        google.colab.kernel.accessAllowed ? 'block' : 'none';\n",
              "    })();\n",
              "  </script>\n",
              "</div>\n",
              "\n",
              "    </div>\n",
              "  </div>\n"
            ],
            "application/vnd.google.colaboratory.intrinsic+json": {
              "type": "dataframe",
              "summary": "{\n  \"name\": \"data13[['color','payment']]\",\n  \"rows\": 6433,\n  \"fields\": [\n    {\n      \"column\": \"color\",\n      \"properties\": {\n        \"dtype\": \"category\",\n        \"num_unique_values\": 2,\n        \"samples\": [\n          \"green\",\n          \"yellow\"\n        ],\n        \"semantic_type\": \"\",\n        \"description\": \"\"\n      }\n    },\n    {\n      \"column\": \"payment\",\n      \"properties\": {\n        \"dtype\": \"category\",\n        \"num_unique_values\": 2,\n        \"samples\": [\n          \"cash\",\n          \"credit card\"\n        ],\n        \"semantic_type\": \"\",\n        \"description\": \"\"\n      }\n    }\n  ]\n}"
            }
          },
          "metadata": {},
          "execution_count": 69
        }
      ]
    },
    {
      "cell_type": "code",
      "source": [
        "data13_table =pd.crosstab(data13['color'],data13['payment'])\n",
        "data13_table"
      ],
      "metadata": {
        "colab": {
          "base_uri": "https://localhost:8080/",
          "height": 143
        },
        "id": "9XMm45_3gAZ6",
        "outputId": "e1e3ec9c-bcfc-4bde-e5b6-5ae3c3e1cd33"
      },
      "execution_count": 70,
      "outputs": [
        {
          "output_type": "execute_result",
          "data": {
            "text/plain": [
              "payment  cash  credit card\n",
              "color                     \n",
              "green     400          577\n",
              "yellow   1412         4000"
            ],
            "text/html": [
              "\n",
              "  <div id=\"df-1188c9e3-22ab-4a58-8a7b-199463183355\" class=\"colab-df-container\">\n",
              "    <div>\n",
              "<style scoped>\n",
              "    .dataframe tbody tr th:only-of-type {\n",
              "        vertical-align: middle;\n",
              "    }\n",
              "\n",
              "    .dataframe tbody tr th {\n",
              "        vertical-align: top;\n",
              "    }\n",
              "\n",
              "    .dataframe thead th {\n",
              "        text-align: right;\n",
              "    }\n",
              "</style>\n",
              "<table border=\"1\" class=\"dataframe\">\n",
              "  <thead>\n",
              "    <tr style=\"text-align: right;\">\n",
              "      <th>payment</th>\n",
              "      <th>cash</th>\n",
              "      <th>credit card</th>\n",
              "    </tr>\n",
              "    <tr>\n",
              "      <th>color</th>\n",
              "      <th></th>\n",
              "      <th></th>\n",
              "    </tr>\n",
              "  </thead>\n",
              "  <tbody>\n",
              "    <tr>\n",
              "      <th>green</th>\n",
              "      <td>400</td>\n",
              "      <td>577</td>\n",
              "    </tr>\n",
              "    <tr>\n",
              "      <th>yellow</th>\n",
              "      <td>1412</td>\n",
              "      <td>4000</td>\n",
              "    </tr>\n",
              "  </tbody>\n",
              "</table>\n",
              "</div>\n",
              "    <div class=\"colab-df-buttons\">\n",
              "\n",
              "  <div class=\"colab-df-container\">\n",
              "    <button class=\"colab-df-convert\" onclick=\"convertToInteractive('df-1188c9e3-22ab-4a58-8a7b-199463183355')\"\n",
              "            title=\"Convert this dataframe to an interactive table.\"\n",
              "            style=\"display:none;\">\n",
              "\n",
              "  <svg xmlns=\"http://www.w3.org/2000/svg\" height=\"24px\" viewBox=\"0 -960 960 960\">\n",
              "    <path d=\"M120-120v-720h720v720H120Zm60-500h600v-160H180v160Zm220 220h160v-160H400v160Zm0 220h160v-160H400v160ZM180-400h160v-160H180v160Zm440 0h160v-160H620v160ZM180-180h160v-160H180v160Zm440 0h160v-160H620v160Z\"/>\n",
              "  </svg>\n",
              "    </button>\n",
              "\n",
              "  <style>\n",
              "    .colab-df-container {\n",
              "      display:flex;\n",
              "      gap: 12px;\n",
              "    }\n",
              "\n",
              "    .colab-df-convert {\n",
              "      background-color: #E8F0FE;\n",
              "      border: none;\n",
              "      border-radius: 50%;\n",
              "      cursor: pointer;\n",
              "      display: none;\n",
              "      fill: #1967D2;\n",
              "      height: 32px;\n",
              "      padding: 0 0 0 0;\n",
              "      width: 32px;\n",
              "    }\n",
              "\n",
              "    .colab-df-convert:hover {\n",
              "      background-color: #E2EBFA;\n",
              "      box-shadow: 0px 1px 2px rgba(60, 64, 67, 0.3), 0px 1px 3px 1px rgba(60, 64, 67, 0.15);\n",
              "      fill: #174EA6;\n",
              "    }\n",
              "\n",
              "    .colab-df-buttons div {\n",
              "      margin-bottom: 4px;\n",
              "    }\n",
              "\n",
              "    [theme=dark] .colab-df-convert {\n",
              "      background-color: #3B4455;\n",
              "      fill: #D2E3FC;\n",
              "    }\n",
              "\n",
              "    [theme=dark] .colab-df-convert:hover {\n",
              "      background-color: #434B5C;\n",
              "      box-shadow: 0px 1px 3px 1px rgba(0, 0, 0, 0.15);\n",
              "      filter: drop-shadow(0px 1px 2px rgba(0, 0, 0, 0.3));\n",
              "      fill: #FFFFFF;\n",
              "    }\n",
              "  </style>\n",
              "\n",
              "    <script>\n",
              "      const buttonEl =\n",
              "        document.querySelector('#df-1188c9e3-22ab-4a58-8a7b-199463183355 button.colab-df-convert');\n",
              "      buttonEl.style.display =\n",
              "        google.colab.kernel.accessAllowed ? 'block' : 'none';\n",
              "\n",
              "      async function convertToInteractive(key) {\n",
              "        const element = document.querySelector('#df-1188c9e3-22ab-4a58-8a7b-199463183355');\n",
              "        const dataTable =\n",
              "          await google.colab.kernel.invokeFunction('convertToInteractive',\n",
              "                                                    [key], {});\n",
              "        if (!dataTable) return;\n",
              "\n",
              "        const docLinkHtml = 'Like what you see? Visit the ' +\n",
              "          '<a target=\"_blank\" href=https://colab.research.google.com/notebooks/data_table.ipynb>data table notebook</a>'\n",
              "          + ' to learn more about interactive tables.';\n",
              "        element.innerHTML = '';\n",
              "        dataTable['output_type'] = 'display_data';\n",
              "        await google.colab.output.renderOutput(dataTable, element);\n",
              "        const docLink = document.createElement('div');\n",
              "        docLink.innerHTML = docLinkHtml;\n",
              "        element.appendChild(docLink);\n",
              "      }\n",
              "    </script>\n",
              "  </div>\n",
              "\n",
              "\n",
              "<div id=\"df-9c20bb36-813b-423c-aee0-af64f9072765\">\n",
              "  <button class=\"colab-df-quickchart\" onclick=\"quickchart('df-9c20bb36-813b-423c-aee0-af64f9072765')\"\n",
              "            title=\"Suggest charts\"\n",
              "            style=\"display:none;\">\n",
              "\n",
              "<svg xmlns=\"http://www.w3.org/2000/svg\" height=\"24px\"viewBox=\"0 0 24 24\"\n",
              "     width=\"24px\">\n",
              "    <g>\n",
              "        <path d=\"M19 3H5c-1.1 0-2 .9-2 2v14c0 1.1.9 2 2 2h14c1.1 0 2-.9 2-2V5c0-1.1-.9-2-2-2zM9 17H7v-7h2v7zm4 0h-2V7h2v10zm4 0h-2v-4h2v4z\"/>\n",
              "    </g>\n",
              "</svg>\n",
              "  </button>\n",
              "\n",
              "<style>\n",
              "  .colab-df-quickchart {\n",
              "      --bg-color: #E8F0FE;\n",
              "      --fill-color: #1967D2;\n",
              "      --hover-bg-color: #E2EBFA;\n",
              "      --hover-fill-color: #174EA6;\n",
              "      --disabled-fill-color: #AAA;\n",
              "      --disabled-bg-color: #DDD;\n",
              "  }\n",
              "\n",
              "  [theme=dark] .colab-df-quickchart {\n",
              "      --bg-color: #3B4455;\n",
              "      --fill-color: #D2E3FC;\n",
              "      --hover-bg-color: #434B5C;\n",
              "      --hover-fill-color: #FFFFFF;\n",
              "      --disabled-bg-color: #3B4455;\n",
              "      --disabled-fill-color: #666;\n",
              "  }\n",
              "\n",
              "  .colab-df-quickchart {\n",
              "    background-color: var(--bg-color);\n",
              "    border: none;\n",
              "    border-radius: 50%;\n",
              "    cursor: pointer;\n",
              "    display: none;\n",
              "    fill: var(--fill-color);\n",
              "    height: 32px;\n",
              "    padding: 0;\n",
              "    width: 32px;\n",
              "  }\n",
              "\n",
              "  .colab-df-quickchart:hover {\n",
              "    background-color: var(--hover-bg-color);\n",
              "    box-shadow: 0 1px 2px rgba(60, 64, 67, 0.3), 0 1px 3px 1px rgba(60, 64, 67, 0.15);\n",
              "    fill: var(--button-hover-fill-color);\n",
              "  }\n",
              "\n",
              "  .colab-df-quickchart-complete:disabled,\n",
              "  .colab-df-quickchart-complete:disabled:hover {\n",
              "    background-color: var(--disabled-bg-color);\n",
              "    fill: var(--disabled-fill-color);\n",
              "    box-shadow: none;\n",
              "  }\n",
              "\n",
              "  .colab-df-spinner {\n",
              "    border: 2px solid var(--fill-color);\n",
              "    border-color: transparent;\n",
              "    border-bottom-color: var(--fill-color);\n",
              "    animation:\n",
              "      spin 1s steps(1) infinite;\n",
              "  }\n",
              "\n",
              "  @keyframes spin {\n",
              "    0% {\n",
              "      border-color: transparent;\n",
              "      border-bottom-color: var(--fill-color);\n",
              "      border-left-color: var(--fill-color);\n",
              "    }\n",
              "    20% {\n",
              "      border-color: transparent;\n",
              "      border-left-color: var(--fill-color);\n",
              "      border-top-color: var(--fill-color);\n",
              "    }\n",
              "    30% {\n",
              "      border-color: transparent;\n",
              "      border-left-color: var(--fill-color);\n",
              "      border-top-color: var(--fill-color);\n",
              "      border-right-color: var(--fill-color);\n",
              "    }\n",
              "    40% {\n",
              "      border-color: transparent;\n",
              "      border-right-color: var(--fill-color);\n",
              "      border-top-color: var(--fill-color);\n",
              "    }\n",
              "    60% {\n",
              "      border-color: transparent;\n",
              "      border-right-color: var(--fill-color);\n",
              "    }\n",
              "    80% {\n",
              "      border-color: transparent;\n",
              "      border-right-color: var(--fill-color);\n",
              "      border-bottom-color: var(--fill-color);\n",
              "    }\n",
              "    90% {\n",
              "      border-color: transparent;\n",
              "      border-bottom-color: var(--fill-color);\n",
              "    }\n",
              "  }\n",
              "</style>\n",
              "\n",
              "  <script>\n",
              "    async function quickchart(key) {\n",
              "      const quickchartButtonEl =\n",
              "        document.querySelector('#' + key + ' button');\n",
              "      quickchartButtonEl.disabled = true;  // To prevent multiple clicks.\n",
              "      quickchartButtonEl.classList.add('colab-df-spinner');\n",
              "      try {\n",
              "        const charts = await google.colab.kernel.invokeFunction(\n",
              "            'suggestCharts', [key], {});\n",
              "      } catch (error) {\n",
              "        console.error('Error during call to suggestCharts:', error);\n",
              "      }\n",
              "      quickchartButtonEl.classList.remove('colab-df-spinner');\n",
              "      quickchartButtonEl.classList.add('colab-df-quickchart-complete');\n",
              "    }\n",
              "    (() => {\n",
              "      let quickchartButtonEl =\n",
              "        document.querySelector('#df-9c20bb36-813b-423c-aee0-af64f9072765 button');\n",
              "      quickchartButtonEl.style.display =\n",
              "        google.colab.kernel.accessAllowed ? 'block' : 'none';\n",
              "    })();\n",
              "  </script>\n",
              "</div>\n",
              "\n",
              "  <div id=\"id_1ed81a9d-cc87-4b89-90a6-aa6e9bf341c2\">\n",
              "    <style>\n",
              "      .colab-df-generate {\n",
              "        background-color: #E8F0FE;\n",
              "        border: none;\n",
              "        border-radius: 50%;\n",
              "        cursor: pointer;\n",
              "        display: none;\n",
              "        fill: #1967D2;\n",
              "        height: 32px;\n",
              "        padding: 0 0 0 0;\n",
              "        width: 32px;\n",
              "      }\n",
              "\n",
              "      .colab-df-generate:hover {\n",
              "        background-color: #E2EBFA;\n",
              "        box-shadow: 0px 1px 2px rgba(60, 64, 67, 0.3), 0px 1px 3px 1px rgba(60, 64, 67, 0.15);\n",
              "        fill: #174EA6;\n",
              "      }\n",
              "\n",
              "      [theme=dark] .colab-df-generate {\n",
              "        background-color: #3B4455;\n",
              "        fill: #D2E3FC;\n",
              "      }\n",
              "\n",
              "      [theme=dark] .colab-df-generate:hover {\n",
              "        background-color: #434B5C;\n",
              "        box-shadow: 0px 1px 3px 1px rgba(0, 0, 0, 0.15);\n",
              "        filter: drop-shadow(0px 1px 2px rgba(0, 0, 0, 0.3));\n",
              "        fill: #FFFFFF;\n",
              "      }\n",
              "    </style>\n",
              "    <button class=\"colab-df-generate\" onclick=\"generateWithVariable('data13_table')\"\n",
              "            title=\"Generate code using this dataframe.\"\n",
              "            style=\"display:none;\">\n",
              "\n",
              "  <svg xmlns=\"http://www.w3.org/2000/svg\" height=\"24px\"viewBox=\"0 0 24 24\"\n",
              "       width=\"24px\">\n",
              "    <path d=\"M7,19H8.4L18.45,9,17,7.55,7,17.6ZM5,21V16.75L18.45,3.32a2,2,0,0,1,2.83,0l1.4,1.43a1.91,1.91,0,0,1,.58,1.4,1.91,1.91,0,0,1-.58,1.4L9.25,21ZM18.45,9,17,7.55Zm-12,3A5.31,5.31,0,0,0,4.9,8.1,5.31,5.31,0,0,0,1,6.5,5.31,5.31,0,0,0,4.9,4.9,5.31,5.31,0,0,0,6.5,1,5.31,5.31,0,0,0,8.1,4.9,5.31,5.31,0,0,0,12,6.5,5.46,5.46,0,0,0,6.5,12Z\"/>\n",
              "  </svg>\n",
              "    </button>\n",
              "    <script>\n",
              "      (() => {\n",
              "      const buttonEl =\n",
              "        document.querySelector('#id_1ed81a9d-cc87-4b89-90a6-aa6e9bf341c2 button.colab-df-generate');\n",
              "      buttonEl.style.display =\n",
              "        google.colab.kernel.accessAllowed ? 'block' : 'none';\n",
              "\n",
              "      buttonEl.onclick = () => {\n",
              "        google.colab.notebook.generateWithVariable('data13_table');\n",
              "      }\n",
              "      })();\n",
              "    </script>\n",
              "  </div>\n",
              "\n",
              "    </div>\n",
              "  </div>\n"
            ],
            "application/vnd.google.colaboratory.intrinsic+json": {
              "type": "dataframe",
              "variable_name": "data13_table",
              "summary": "{\n  \"name\": \"data13_table\",\n  \"rows\": 2,\n  \"fields\": [\n    {\n      \"column\": \"color\",\n      \"properties\": {\n        \"dtype\": \"string\",\n        \"num_unique_values\": 2,\n        \"samples\": [\n          \"yellow\",\n          \"green\"\n        ],\n        \"semantic_type\": \"\",\n        \"description\": \"\"\n      }\n    },\n    {\n      \"column\": \"cash\",\n      \"properties\": {\n        \"dtype\": \"number\",\n        \"std\": 715,\n        \"min\": 400,\n        \"max\": 1412,\n        \"num_unique_values\": 2,\n        \"samples\": [\n          1412,\n          400\n        ],\n        \"semantic_type\": \"\",\n        \"description\": \"\"\n      }\n    },\n    {\n      \"column\": \"credit card\",\n      \"properties\": {\n        \"dtype\": \"number\",\n        \"std\": 2420,\n        \"min\": 577,\n        \"max\": 4000,\n        \"num_unique_values\": 2,\n        \"samples\": [\n          4000,\n          577\n        ],\n        \"semantic_type\": \"\",\n        \"description\": \"\"\n      }\n    }\n  ]\n}"
            }
          },
          "metadata": {},
          "execution_count": 70
        }
      ]
    },
    {
      "cell_type": "code",
      "source": [
        "observed_values13 = data13_table.values\n",
        "observed_values13"
      ],
      "metadata": {
        "colab": {
          "base_uri": "https://localhost:8080/"
        },
        "id": "UQhDZI6SgJTW",
        "outputId": "b5dc1d95-b2be-4d2a-bd86-f0f7bb086654"
      },
      "execution_count": 71,
      "outputs": [
        {
          "output_type": "execute_result",
          "data": {
            "text/plain": [
              "array([[ 400,  577],\n",
              "       [1412, 4000]])"
            ]
          },
          "metadata": {},
          "execution_count": 71
        }
      ]
    },
    {
      "cell_type": "code",
      "source": [
        "# now expoected freuncy out from observed values\n",
        "ch2_13,p13,dof13,ex_fre13 = stats.chi2_contingency(observed_values13)\n",
        "\n",
        "\n",
        "\n",
        "print('our expected frequncy is: ',ex_fre13)\n",
        ""
      ],
      "metadata": {
        "colab": {
          "base_uri": "https://localhost:8080/"
        },
        "id": "oMf0ro55gPAx",
        "outputId": "ea82efad-c9ed-4064-f74c-26f051c28d8e"
      },
      "execution_count": 72,
      "outputs": [
        {
          "output_type": "stream",
          "name": "stdout",
          "text": [
            "our expected frequncy is:  [[ 277.08937236  699.91062764]\n",
            " [1534.91062764 3877.08937236]]\n"
          ]
        }
      ]
    },
    {
      "cell_type": "code",
      "source": [
        "# now further exceding the qustion\n"
      ],
      "metadata": {
        "id": "FM7bcJlKgViS"
      },
      "execution_count": 73,
      "outputs": []
    },
    {
      "cell_type": "code",
      "source": [
        "# chi stats\n",
        "for z in zip(observed_values13,ex_fre13):\n",
        "  print(z)"
      ],
      "metadata": {
        "colab": {
          "base_uri": "https://localhost:8080/"
        },
        "id": "ERupX_Ocgdmk",
        "outputId": "09661a66-37ba-4eed-a704-db34d2105b58"
      },
      "execution_count": 74,
      "outputs": [
        {
          "output_type": "stream",
          "name": "stdout",
          "text": [
            "(array([400, 577]), array([277.08937236, 699.91062764]))\n",
            "(array([1412, 4000]), array([1534.91062764, 3877.08937236]))\n"
          ]
        }
      ]
    },
    {
      "cell_type": "code",
      "source": [
        "chi_test13 = sum([(o-e) ** 2 / e for o,e in zip(observed_values13,ex_fre13)])\n",
        "chi_test13\n",
        ""
      ],
      "metadata": {
        "colab": {
          "base_uri": "https://localhost:8080/"
        },
        "id": "6MEcrgQKgiDH",
        "outputId": "2878aead-f7f7-4afd-90eb-bd1aeac02001"
      },
      "execution_count": 75,
      "outputs": [
        {
          "output_type": "execute_result",
          "data": {
            "text/plain": [
              "array([64.36267773, 25.48070178])"
            ]
          },
          "metadata": {},
          "execution_count": 75
        }
      ]
    },
    {
      "cell_type": "code",
      "source": [
        "chi_stats13 = chi_test13[0] + chi_test13[1]\n",
        "chi_stats13\n",
        "\n"
      ],
      "metadata": {
        "colab": {
          "base_uri": "https://localhost:8080/"
        },
        "id": "uC3FYpLJgndI",
        "outputId": "7ca92a0a-008b-4bab-da17-22e0fb9bbe56"
      },
      "execution_count": 76,
      "outputs": [
        {
          "output_type": "execute_result",
          "data": {
            "text/plain": [
              "np.float64(89.84337950623784)"
            ]
          },
          "metadata": {},
          "execution_count": 76
        }
      ]
    },
    {
      "cell_type": "code",
      "source": [
        "chi_critical13 =stats.chi2.ppf(1 - alpha12 ,dof13)\n",
        "chi_critical13"
      ],
      "metadata": {
        "colab": {
          "base_uri": "https://localhost:8080/"
        },
        "id": "OiPWjaKxgr2v",
        "outputId": "b28ffad1-cc5a-47a4-df3b-f538cfac7c72"
      },
      "execution_count": 77,
      "outputs": [
        {
          "output_type": "execute_result",
          "data": {
            "text/plain": [
              "np.float64(3.841458820694124)"
            ]
          },
          "metadata": {},
          "execution_count": 77
        }
      ]
    },
    {
      "cell_type": "code",
      "source": [
        "if chi_stats13 > chi_critical13:\n",
        "  print('we reject the null hypothesis')\n",
        "else:\n",
        "  print('fail to reject the null hypothesis')\n",
        "# this is the complete solution of this qusition ater getting expected frequncy out of observed values\n",
        ""
      ],
      "metadata": {
        "colab": {
          "base_uri": "https://localhost:8080/"
        },
        "id": "MeGF3bUfgwfW",
        "outputId": "55742f10-38ee-4da6-b934-bd898364925d"
      },
      "execution_count": 78,
      "outputs": [
        {
          "output_type": "stream",
          "name": "stdout",
          "text": [
            "we reject the null hypothesis\n"
          ]
        }
      ]
    },
    {
      "cell_type": "code",
      "source": [
        "# 14.  Perform a goodness-of-fit test using Python to compare the observed data to an expected distribution\n",
        "# godness of fit test is also known as chi squre test\n",
        "observed14 = np.array([15,25,20,10,30,20])\n",
        "expected14_a = np.array([20,20,20,20,20,20])\n",
        "\n",
        "\n",
        "\n",
        "chi_stats14,p_value14 = stats.chisquare(observed14,expected14_a)\n",
        "\n",
        "\n",
        "\n",
        "alpha14 =0.05\n",
        "\n",
        "\n",
        "if p_value14 < alpha14:\n",
        "  print('we reject the null hypothesis')\n",
        "else:\n",
        "  print('fail to reject the null hypothesis')"
      ],
      "metadata": {
        "colab": {
          "base_uri": "https://localhost:8080/"
        },
        "id": "f5huhP4Hg-59",
        "outputId": "cd199686-91e2-40ff-c512-2925888c9300"
      },
      "execution_count": 79,
      "outputs": [
        {
          "output_type": "stream",
          "name": "stdout",
          "text": [
            "we reject the null hypothesis\n"
          ]
        }
      ]
    },
    {
      "cell_type": "code",
      "source": [
        "chi_stats14"
      ],
      "metadata": {
        "colab": {
          "base_uri": "https://localhost:8080/"
        },
        "id": "qGpnyUpshGE5",
        "outputId": "b9f7deb2-9190-4994-ec15-07bb6a413a1c"
      },
      "execution_count": 80,
      "outputs": [
        {
          "output_type": "execute_result",
          "data": {
            "text/plain": [
              "np.float64(12.5)"
            ]
          },
          "metadata": {},
          "execution_count": 80
        }
      ]
    },
    {
      "cell_type": "code",
      "source": [
        "#15.  Create a Python script to simulate and visualize the Chi-square distribution and discuss its characteristics ?\n",
        "# making a plot using chi squre distribtion\n",
        "df15  = 13\n",
        "size15 = 5000\n",
        "chi_squre15 = np.random.chisquare(df15,size15)\n",
        "c = chi_squre15\n",
        "c = c[np.where(abs(c) < 200)]\n",
        "\n",
        "plt.hist(c,bins=50,color='skyblue')\n",
        "plt.title('chi_squre_distirbution')\n",
        "plt.xlabel('values')\n",
        "plt.ylabel('density')\n",
        "plt.show()"
      ],
      "metadata": {
        "colab": {
          "base_uri": "https://localhost:8080/",
          "height": 472
        },
        "id": "ZLuJ13wyhLnG",
        "outputId": "6403624b-a501-4148-b37c-1403066386d7"
      },
      "execution_count": 81,
      "outputs": [
        {
          "output_type": "display_data",
          "data": {
            "text/plain": [
              "<Figure size 640x480 with 1 Axes>"
            ],
            "image/png": "[encoded data removed]"
          },
          "metadata": {}
        }
      ]
    },
    {
      "cell_type": "code",
      "source": [
        "#16 . Implement an F-test using Python to compare the variances of two random samples ?\n",
        "# first creating two random samples for further calculation\n",
        "data_a16 = np.random.normal(loc=40,scale=12,size=300)\n",
        "data_b16 = np.random.normal(loc=38,scale=16,size=300)\n",
        "data_b16"
      ],
      "metadata": {
        "colab": {
          "base_uri": "https://localhost:8080/"
        },
        "id": "ahe75uNfhUUa",
        "outputId": "0502ae99-cdcb-4158-bbba-c2c4daa45f1d"
      },
      "execution_count": 82,
      "outputs": [
        {
          "output_type": "execute_result",
          "data": {
            "text/plain": [
              "array([29.26920152, 47.55591972, 48.75878635, 32.51052322, 15.85401599,\n",
              "       27.39677367, 48.88155254, 40.32849703, 53.0764866 , 23.9810335 ,\n",
              "        7.83479804,  7.59494358, 33.94156058, 21.21158096, 18.31067419,\n",
              "       34.34903296, 61.03154928, 52.21353997, 40.71706858, 12.77888969,\n",
              "       16.50465609, 21.92339348, 17.24786225, 51.24599535, 12.31318921,\n",
              "       34.25594372, 45.17539615, 24.84592335, 52.9081446 , 32.23993113,\n",
              "       -5.96481241, 32.31771577, 32.92229793, 40.35029917, 67.47495702,\n",
              "       24.50307033, 24.09086064, 71.90605541, 56.72477295, 26.88161628,\n",
              "       34.09820432, 11.22656843, 57.81645932, 49.9221708 , 24.62986745,\n",
              "       48.24163477, 29.18966499, 54.45964807, 31.38891416, 30.68381428,\n",
              "       39.6075005 , 34.39556563, 15.96924618, 47.58165541, 54.31648073,\n",
              "       29.572209  , 36.36875765, 43.54775958, 44.54538301, 17.83848429,\n",
              "       34.55108396, 54.41930865, 26.51876892, 48.54761802, 58.34059273,\n",
              "       28.60845653, 35.16966562, 38.59330754, 31.47668332, 30.90417464,\n",
              "       16.17050675, 55.61389553, 30.75701254, 29.29467208, 23.89199947,\n",
              "       33.64585262, 36.68417147, 37.51157805, 60.6293625 , 59.83631314,\n",
              "       34.25984728, 51.74586893, 54.10771022, 31.57255574, 51.64833742,\n",
              "        5.3970924 , 46.13116006, 42.23506295, 44.45827822, 58.80783483,\n",
              "       30.63533702, 40.68536233, -0.48386048, 41.79745962, 58.8612193 ,\n",
              "        2.42247774, 49.03276056, 67.4762136 , 38.26668447, 38.67051448,\n",
              "       43.15558267, 43.6379842 , 13.52591472, 34.74998311, 36.86366297,\n",
              "       32.69927991, 37.63121675, 24.23328299, 26.05060528, 19.44701006,\n",
              "       21.2720766 , 47.41976823,  8.57161665, 30.16464518, 58.26256919,\n",
              "       44.90170709, 69.24175872, 30.24742157, 13.33015033,  5.91463173,\n",
              "       46.82998351, 57.78949516, 45.37999148, 46.49058589, 47.938779  ,\n",
              "       27.95291132, 24.10845903, 62.88311149, 45.79822082, 24.51500351,\n",
              "       35.99571684, 62.90364838, 34.36056428, 29.05984258, 12.68133712,\n",
              "       59.92031988, 38.78386776, 18.39958215, 30.9205027 , 19.86735726,\n",
              "       43.30659655, 33.16966953, 64.69960895, 27.94650458, 19.47582536,\n",
              "       46.03840779, 22.46685309, 22.93622355, 36.48846401, 37.46584067,\n",
              "       68.09664072, 31.12559733, 32.3934733 , 29.5851772 , 21.23721042,\n",
              "       23.63579656, 53.45378704, 13.80684214, 18.0330698 , 27.95132545,\n",
              "       20.35077371, 30.39494008, 33.30381904, 41.82302008, 50.80196503,\n",
              "       44.48695497, 27.01753301, 37.06627153, 33.32589435, 37.7740105 ,\n",
              "       27.87956817, 35.50304971, 41.01020549, 47.42443172, 48.82241245,\n",
              "       51.90713689, 14.14016587, 52.80856486, 67.93363443, 19.62907834,\n",
              "       27.63414803, 49.63990249, 47.46931915, 39.70362453, 15.63514515,\n",
              "       11.13978593, -1.79285709, 26.22816302, 38.17186894, 38.21114755,\n",
              "       31.80248202, 38.47081161, 39.27966591, 27.44364687, 38.99141062,\n",
              "       23.55163713, 44.64084227, 48.67129105, 31.85440499, 13.19071471,\n",
              "       27.23547615, 25.60656662, 35.53234033, 62.84554448, 66.86178936,\n",
              "        8.34876859, 26.65160017, 45.1844852 , 11.87920601, 62.34628828,\n",
              "       60.60039531, 51.96859815, 33.08194114, 39.10918842, 40.06043201,\n",
              "       45.11420165, 51.41733599, 47.80450286, 47.34309258, 55.85062994,\n",
              "       27.13599239, 20.33792755, 26.58978135, 17.22893899, 32.95063147,\n",
              "       11.70931466, 44.15706875, 28.4739513 , 22.58766833, 47.63427202,\n",
              "       50.33683311, 39.11742993, 47.46914758, 40.50472468, 55.66902719,\n",
              "       27.23921893, 33.24743137, 45.69805856, 42.33027182, 51.65948268,\n",
              "       18.13742231, 28.89836982, 31.7244856 , 46.198706  , 41.47286862,\n",
              "       29.09619728, 22.06259406, 35.99497317, 32.78356003, 27.60791138,\n",
              "       49.90424336, 37.64995398, 25.95432942, 30.42359772, 63.42796281,\n",
              "       36.65896469, 55.11326857, 64.601478  , 57.76157321, 68.88932277,\n",
              "       36.84672534, 52.37630808, 39.17455726, 45.00599544, 70.24657223,\n",
              "       43.90516862, 28.15879565, 47.2525616 , 27.27422281, 60.07102366,\n",
              "       43.61536816, 68.13618121, 33.06932506, 53.70451779, 29.95575062,\n",
              "       26.42724646, 27.83544405, 48.72104063, 15.58812848, 35.6323215 ,\n",
              "       38.28293118, 19.62444268, 59.41686323, 48.58574684, 78.33133219,\n",
              "       31.40591181, 34.44731067, 57.93955009, 44.85291426, 46.84474775,\n",
              "       36.31231062, 51.5954833 , 10.24884675, 36.11345579, 27.16507313,\n",
              "       55.13369951, 45.29423667, 23.82529879, 14.13112092, 53.18283291])"
            ]
          },
          "metadata": {},
          "execution_count": 82
        }
      ]
    },
    {
      "cell_type": "code",
      "source": [
        "a16_var= np.var(data_a16)\n",
        "a16_var\n",
        ""
      ],
      "metadata": {
        "colab": {
          "base_uri": "https://localhost:8080/"
        },
        "id": "dJJKAiD4hbYg",
        "outputId": "005a44d6-7363-486d-eec3-4a4faee2d0d6"
      },
      "execution_count": 83,
      "outputs": [
        {
          "output_type": "execute_result",
          "data": {
            "text/plain": [
              "np.float64(130.42141567529944)"
            ]
          },
          "metadata": {},
          "execution_count": 83
        }
      ]
    },
    {
      "cell_type": "code",
      "source": [
        "b16_var = np.var(data_b16)\n",
        "b16_var\n",
        ""
      ],
      "metadata": {
        "colab": {
          "base_uri": "https://localhost:8080/"
        },
        "id": "Uefyn9aKhk_1",
        "outputId": "08337843-3b9e-474a-c1d8-46f8112edbc0"
      },
      "execution_count": 84,
      "outputs": [
        {
          "output_type": "execute_result",
          "data": {
            "text/plain": [
              "np.float64(237.17017216496563)"
            ]
          },
          "metadata": {},
          "execution_count": 84
        }
      ]
    },
    {
      "cell_type": "code",
      "source": [
        "f_stats16 = a16_var / b16_var if a16_var > b16_var else b16_var / a16_var\n",
        "f_stats16\n",
        ""
      ],
      "metadata": {
        "colab": {
          "base_uri": "https://localhost:8080/"
        },
        "id": "QNR0-x6Sho05",
        "outputId": "ad2784e6-f793-4256-c86f-54b6e1222e57"
      },
      "execution_count": 85,
      "outputs": [
        {
          "output_type": "execute_result",
          "data": {
            "text/plain": [
              "np.float64(1.8184910119012254)"
            ]
          },
          "metadata": {},
          "execution_count": 85
        }
      ]
    },
    {
      "cell_type": "code",
      "source": [
        "dof1_16  = len(data_a16) -1\n",
        "dof2_16 = len(data_b16) - 1\n",
        "dof2_16\n",
        "alpha = 0.05\n",
        "\n",
        "\n",
        "f_critical16 = stats.f.ppf(q = 1 - alpha , dfn = dof1_16, dfd = dof2_16)\n",
        "f_critical16"
      ],
      "metadata": {
        "colab": {
          "base_uri": "https://localhost:8080/"
        },
        "id": "zrvLCqItht9R",
        "outputId": "69e1734e-6bef-4c19-d0ad-d75ebcb1f67a"
      },
      "execution_count": 86,
      "outputs": [
        {
          "output_type": "execute_result",
          "data": {
            "text/plain": [
              "np.float64(1.2099167425932442)"
            ]
          },
          "metadata": {},
          "execution_count": 86
        }
      ]
    },
    {
      "cell_type": "code",
      "source": [
        "if f_stats16 > f_critical16:\n",
        "  print('reject the null hypothesis , there is significant diffrent in the both data')\n",
        "else:\n",
        "  print('fail to  reject the null hypothesis , there is  no significant diffrent in the both data')\n",
        ""
      ],
      "metadata": {
        "colab": {
          "base_uri": "https://localhost:8080/"
        },
        "id": "sCj4VwW2h06d",
        "outputId": "6bf037a2-fe90-4b36-bf18-a88b25bd684f"
      },
      "execution_count": 87,
      "outputs": [
        {
          "output_type": "stream",
          "name": "stdout",
          "text": [
            "reject the null hypothesis , there is significant diffrent in the both data\n"
          ]
        }
      ]
    },
    {
      "cell_type": "code",
      "source": [
        "p_value16 = 1- stats.f.cdf(f_stats16,dof1_16,dof2_16)\n",
        "\n",
        "\n",
        "p_value16\n",
        ""
      ],
      "metadata": {
        "colab": {
          "base_uri": "https://localhost:8080/"
        },
        "id": "bfB1w30_h7SQ",
        "outputId": "d463171a-e824-4fbb-8bbb-cbf2e33cabe8"
      },
      "execution_count": 88,
      "outputs": [
        {
          "output_type": "execute_result",
          "data": {
            "text/plain": [
              "np.float64(1.4623744160058294e-07)"
            ]
          },
          "metadata": {},
          "execution_count": 88
        }
      ]
    },
    {
      "cell_type": "code",
      "source": [
        "if p_value16 < alpha:\n",
        "  print('reject the null hypothesis , there is significant diffrent in the both data')\n",
        "else:\n",
        "  print('fail to  reject the null hypothesis , there is  no significant diffrent in the both data')"
      ],
      "metadata": {
        "colab": {
          "base_uri": "https://localhost:8080/"
        },
        "id": "TYN_b1R5iC13",
        "outputId": "b223a1aa-545d-4dc6-c08f-267accc587e5"
      },
      "execution_count": 89,
      "outputs": [
        {
          "output_type": "stream",
          "name": "stdout",
          "text": [
            "reject the null hypothesis , there is significant diffrent in the both data\n"
          ]
        }
      ]
    },
    {
      "cell_type": "code",
      "source": [
        "#17. Write a Python program to perform an ANOVA test to compare means between multiple groups and interpret the results ?\n",
        "data17 = pd.read_csv('plant.csv')\n",
        "data17"
      ],
      "metadata": {
        "colab": {
          "base_uri": "https://localhost:8080/",
          "height": 321
        },
        "id": "0S1vmSXziJ5o",
        "outputId": "52cfdb62-80fd-4847-bb29-ff35a291af3e"
      },
      "execution_count": 90,
      "outputs": [
        {
          "output_type": "error",
          "ename": "FileNotFoundError",
          "evalue": "[Errno 2] No such file or directory: 'plant.csv'",
          "traceback": [
            "\u001b[0;31m---------------------------------------------------------------------------\u001b[0m",
            "\u001b[0;31mFileNotFoundError\u001b[0m                         Traceback (most recent call last)",
            "\u001b[0;32m<ipython-input-90-892e0b159616>\u001b[0m in \u001b[0;36m<cell line: 0>\u001b[0;34m()\u001b[0m\n\u001b[1;32m      1\u001b[0m \u001b[0;31m#17. Write a Python program to perform an ANOVA test to compare means between multiple groups and interpret the results ?\u001b[0m\u001b[0;34m\u001b[0m\u001b[0;34m\u001b[0m\u001b[0m\n\u001b[0;32m----> 2\u001b[0;31m \u001b[0mdata17\u001b[0m \u001b[0;34m=\u001b[0m \u001b[0mpd\u001b[0m\u001b[0;34m.\u001b[0m\u001b[0mread_csv\u001b[0m\u001b[0;34m(\u001b[0m\u001b[0;34m'plant.csv'\u001b[0m\u001b[0;34m)\u001b[0m\u001b[0;34m\u001b[0m\u001b[0;34m\u001b[0m\u001b[0m\n\u001b[0m\u001b[1;32m      3\u001b[0m \u001b[0mdata17\u001b[0m\u001b[0;34m\u001b[0m\u001b[0;34m\u001b[0m\u001b[0m\n",
            "\u001b[0;32m/usr/local/lib/python3.11/dist-packages/pandas/io/parsers/readers.py\u001b[0m in \u001b[0;36mread_csv\u001b[0;34m(filepath_or_buffer, sep, delimiter, header, names, index_col, usecols, dtype, engine, converters, true_values, false_values, skipinitialspace, skiprows, skipfooter, nrows, na_values, keep_default_na, na_filter, verbose, skip_blank_lines, parse_dates, infer_datetime_format, keep_date_col, date_parser, date_format, dayfirst, cache_dates, iterator, chunksize, compression, thousands, decimal, lineterminator, quotechar, quoting, doublequote, escapechar, comment, encoding, encoding_errors, dialect, on_bad_lines, delim_whitespace, low_memory, memory_map, float_precision, storage_options, dtype_backend)\u001b[0m\n\u001b[1;32m   1024\u001b[0m     \u001b[0mkwds\u001b[0m\u001b[0;34m.\u001b[0m\u001b[0mupdate\u001b[0m\u001b[0;34m(\u001b[0m\u001b[0mkwds_defaults\u001b[0m\u001b[0;34m)\u001b[0m\u001b[0;34m\u001b[0m\u001b[0;34m\u001b[0m\u001b[0m\n\u001b[1;32m   1025\u001b[0m \u001b[0;34m\u001b[0m\u001b[0m\n\u001b[0;32m-> 1026\u001b[0;31m     \u001b[0;32mreturn\u001b[0m \u001b[0m_read\u001b[0m\u001b[0;34m(\u001b[0m\u001b[0mfilepath_or_buffer\u001b[0m\u001b[0;34m,\u001b[0m \u001b[0mkwds\u001b[0m\u001b[0;34m)\u001b[0m\u001b[0;34m\u001b[0m\u001b[0;34m\u001b[0m\u001b[0m\n\u001b[0m\u001b[1;32m   1027\u001b[0m \u001b[0;34m\u001b[0m\u001b[0m\n\u001b[1;32m   1028\u001b[0m \u001b[0;34m\u001b[0m\u001b[0m\n",
            "\u001b[0;32m/usr/local/lib/python3.11/dist-packages/pandas/io/parsers/readers.py\u001b[0m in \u001b[0;36m_read\u001b[0;34m(filepath_or_buffer, kwds)\u001b[0m\n\u001b[1;32m    618\u001b[0m \u001b[0;34m\u001b[0m\u001b[0m\n\u001b[1;32m    619\u001b[0m     \u001b[0;31m# Create the parser.\u001b[0m\u001b[0;34m\u001b[0m\u001b[0;34m\u001b[0m\u001b[0m\n\u001b[0;32m--> 620\u001b[0;31m     \u001b[0mparser\u001b[0m \u001b[0;34m=\u001b[0m \u001b[0mTextFileReader\u001b[0m\u001b[0;34m(\u001b[0m\u001b[0mfilepath_or_buffer\u001b[0m\u001b[0;34m,\u001b[0m \u001b[0;34m**\u001b[0m\u001b[0mkwds\u001b[0m\u001b[0;34m)\u001b[0m\u001b[0;34m\u001b[0m\u001b[0;34m\u001b[0m\u001b[0m\n\u001b[0m\u001b[1;32m    621\u001b[0m \u001b[0;34m\u001b[0m\u001b[0m\n\u001b[1;32m    622\u001b[0m     \u001b[0;32mif\u001b[0m \u001b[0mchunksize\u001b[0m \u001b[0;32mor\u001b[0m \u001b[0miterator\u001b[0m\u001b[0;34m:\u001b[0m\u001b[0;34m\u001b[0m\u001b[0;34m\u001b[0m\u001b[0m\n",
            "\u001b[0;32m/usr/local/lib/python3.11/dist-packages/pandas/io/parsers/readers.py\u001b[0m in \u001b[0;36m__init__\u001b[0;34m(self, f, engine, **kwds)\u001b[0m\n\u001b[1;32m   1618\u001b[0m \u001b[0;34m\u001b[0m\u001b[0m\n\u001b[1;32m   1619\u001b[0m         \u001b[0mself\u001b[0m\u001b[0;34m.\u001b[0m\u001b[0mhandles\u001b[0m\u001b[0;34m:\u001b[0m \u001b[0mIOHandles\u001b[0m \u001b[0;34m|\u001b[0m \u001b[0;32mNone\u001b[0m \u001b[0;34m=\u001b[0m \u001b[0;32mNone\u001b[0m\u001b[0;34m\u001b[0m\u001b[0;34m\u001b[0m\u001b[0m\n\u001b[0;32m-> 1620\u001b[0;31m         \u001b[0mself\u001b[0m\u001b[0;34m.\u001b[0m\u001b[0m_engine\u001b[0m \u001b[0;34m=\u001b[0m \u001b[0mself\u001b[0m\u001b[0;34m.\u001b[0m\u001b[0m_make_engine\u001b[0m\u001b[0;34m(\u001b[0m\u001b[0mf\u001b[0m\u001b[0;34m,\u001b[0m \u001b[0mself\u001b[0m\u001b[0;34m.\u001b[0m\u001b[0mengine\u001b[0m\u001b[0;34m)\u001b[0m\u001b[0;34m\u001b[0m\u001b[0;34m\u001b[0m\u001b[0m\n\u001b[0m\u001b[1;32m   1621\u001b[0m \u001b[0;34m\u001b[0m\u001b[0m\n\u001b[1;32m   1622\u001b[0m     \u001b[0;32mdef\u001b[0m \u001b[0mclose\u001b[0m\u001b[0;34m(\u001b[0m\u001b[0mself\u001b[0m\u001b[0;34m)\u001b[0m \u001b[0;34m->\u001b[0m \u001b[0;32mNone\u001b[0m\u001b[0;34m:\u001b[0m\u001b[0;34m\u001b[0m\u001b[0;34m\u001b[0m\u001b[0m\n",
            "\u001b[0;32m/usr/local/lib/python3.11/dist-packages/pandas/io/parsers/readers.py\u001b[0m in \u001b[0;36m_make_engine\u001b[0;34m(self, f, engine)\u001b[0m\n\u001b[1;32m   1878\u001b[0m                 \u001b[0;32mif\u001b[0m \u001b[0;34m\"b\"\u001b[0m \u001b[0;32mnot\u001b[0m \u001b[0;32min\u001b[0m \u001b[0mmode\u001b[0m\u001b[0;34m:\u001b[0m\u001b[0;34m\u001b[0m\u001b[0;34m\u001b[0m\u001b[0m\n\u001b[1;32m   1879\u001b[0m                     \u001b[0mmode\u001b[0m \u001b[0;34m+=\u001b[0m \u001b[0;34m\"b\"\u001b[0m\u001b[0;34m\u001b[0m\u001b[0;34m\u001b[0m\u001b[0m\n\u001b[0;32m-> 1880\u001b[0;31m             self.handles = get_handle(\n\u001b[0m\u001b[1;32m   1881\u001b[0m                 \u001b[0mf\u001b[0m\u001b[0;34m,\u001b[0m\u001b[0;34m\u001b[0m\u001b[0;34m\u001b[0m\u001b[0m\n\u001b[1;32m   1882\u001b[0m                 \u001b[0mmode\u001b[0m\u001b[0;34m,\u001b[0m\u001b[0;34m\u001b[0m\u001b[0;34m\u001b[0m\u001b[0m\n",
            "\u001b[0;32m/usr/local/lib/python3.11/dist-packages/pandas/io/common.py\u001b[0m in \u001b[0;36mget_handle\u001b[0;34m(path_or_buf, mode, encoding, compression, memory_map, is_text, errors, storage_options)\u001b[0m\n\u001b[1;32m    871\u001b[0m         \u001b[0;32mif\u001b[0m \u001b[0mioargs\u001b[0m\u001b[0;34m.\u001b[0m\u001b[0mencoding\u001b[0m \u001b[0;32mand\u001b[0m \u001b[0;34m\"b\"\u001b[0m \u001b[0;32mnot\u001b[0m \u001b[0;32min\u001b[0m \u001b[0mioargs\u001b[0m\u001b[0;34m.\u001b[0m\u001b[0mmode\u001b[0m\u001b[0;34m:\u001b[0m\u001b[0;34m\u001b[0m\u001b[0;34m\u001b[0m\u001b[0m\n\u001b[1;32m    872\u001b[0m             \u001b[0;31m# Encoding\u001b[0m\u001b[0;34m\u001b[0m\u001b[0;34m\u001b[0m\u001b[0m\n\u001b[0;32m--> 873\u001b[0;31m             handle = open(\n\u001b[0m\u001b[1;32m    874\u001b[0m                 \u001b[0mhandle\u001b[0m\u001b[0;34m,\u001b[0m\u001b[0;34m\u001b[0m\u001b[0;34m\u001b[0m\u001b[0m\n\u001b[1;32m    875\u001b[0m                 \u001b[0mioargs\u001b[0m\u001b[0;34m.\u001b[0m\u001b[0mmode\u001b[0m\u001b[0;34m,\u001b[0m\u001b[0;34m\u001b[0m\u001b[0;34m\u001b[0m\u001b[0m\n",
            "\u001b[0;31mFileNotFoundError\u001b[0m: [Errno 2] No such file or directory: 'plant.csv'"
          ]
        }
      ]
    },
    {
      "cell_type": "code",
      "source": [
        "df17 = data17.drop('Unnamed: 0',axis =1)\n",
        "\n",
        "\n",
        "groups17 = df17.group.unique()\n",
        "\n",
        "\n",
        "df17_new = {grp:df17['weight'][df17.group ==grp] for grp in groups17}\n",
        "\n",
        "\n",
        "df17_new"
      ],
      "metadata": {
        "colab": {
          "base_uri": "https://localhost:8080/",
          "height": 211
        },
        "id": "jwGP9w30iOO0",
        "outputId": "bc0cb26f-8ea4-4c04-bd0d-d2c98f97ff43"
      },
      "execution_count": 91,
      "outputs": [
        {
          "output_type": "error",
          "ename": "NameError",
          "evalue": "name 'data17' is not defined",
          "traceback": [
            "\u001b[0;31m---------------------------------------------------------------------------\u001b[0m",
            "\u001b[0;31mNameError\u001b[0m                                 Traceback (most recent call last)",
            "\u001b[0;32m<ipython-input-91-4784371cb6b7>\u001b[0m in \u001b[0;36m<cell line: 0>\u001b[0;34m()\u001b[0m\n\u001b[0;32m----> 1\u001b[0;31m \u001b[0mdf17\u001b[0m \u001b[0;34m=\u001b[0m \u001b[0mdata17\u001b[0m\u001b[0;34m.\u001b[0m\u001b[0mdrop\u001b[0m\u001b[0;34m(\u001b[0m\u001b[0;34m'Unnamed: 0'\u001b[0m\u001b[0;34m,\u001b[0m\u001b[0maxis\u001b[0m \u001b[0;34m=\u001b[0m\u001b[0;36m1\u001b[0m\u001b[0;34m)\u001b[0m\u001b[0;34m\u001b[0m\u001b[0;34m\u001b[0m\u001b[0m\n\u001b[0m\u001b[1;32m      2\u001b[0m \u001b[0;34m\u001b[0m\u001b[0m\n\u001b[1;32m      3\u001b[0m \u001b[0;34m\u001b[0m\u001b[0m\n\u001b[1;32m      4\u001b[0m \u001b[0mgroups17\u001b[0m \u001b[0;34m=\u001b[0m \u001b[0mdf17\u001b[0m\u001b[0;34m.\u001b[0m\u001b[0mgroup\u001b[0m\u001b[0;34m.\u001b[0m\u001b[0munique\u001b[0m\u001b[0;34m(\u001b[0m\u001b[0;34m)\u001b[0m\u001b[0;34m\u001b[0m\u001b[0;34m\u001b[0m\u001b[0m\n\u001b[1;32m      5\u001b[0m \u001b[0;34m\u001b[0m\u001b[0m\n",
            "\u001b[0;31mNameError\u001b[0m: name 'data17' is not defined"
          ]
        }
      ]
    },
    {
      "cell_type": "code",
      "source": [
        "# now we have data more then two groups simply we can say multiple groups\n",
        "\n",
        "\n",
        "f_stats17,p_value17 = stats.f_oneway(df17_new['ctrl'],df17_new['trt1'],df17_new['trt2'])\n",
        "\n",
        "\n",
        "\n",
        "if p_value17 <= 0.05:\n",
        "  print(\"Reject the null hypothesis\")\n",
        "else:\n",
        "    print(\"Fail to reject null hypothesis\")\n",
        ""
      ],
      "metadata": {
        "colab": {
          "base_uri": "https://localhost:8080/",
          "height": 211
        },
        "id": "iCicJC3KiaS8",
        "outputId": "82f365fb-d348-4e47-8d3b-f0c7b1c48248"
      },
      "execution_count": 92,
      "outputs": [
        {
          "output_type": "error",
          "ename": "NameError",
          "evalue": "name 'df17_new' is not defined",
          "traceback": [
            "\u001b[0;31m---------------------------------------------------------------------------\u001b[0m",
            "\u001b[0;31mNameError\u001b[0m                                 Traceback (most recent call last)",
            "\u001b[0;32m<ipython-input-92-d5d9056add35>\u001b[0m in \u001b[0;36m<cell line: 0>\u001b[0;34m()\u001b[0m\n\u001b[1;32m      2\u001b[0m \u001b[0;34m\u001b[0m\u001b[0m\n\u001b[1;32m      3\u001b[0m \u001b[0;34m\u001b[0m\u001b[0m\n\u001b[0;32m----> 4\u001b[0;31m \u001b[0mf_stats17\u001b[0m\u001b[0;34m,\u001b[0m\u001b[0mp_value17\u001b[0m \u001b[0;34m=\u001b[0m \u001b[0mstats\u001b[0m\u001b[0;34m.\u001b[0m\u001b[0mf_oneway\u001b[0m\u001b[0;34m(\u001b[0m\u001b[0mdf17_new\u001b[0m\u001b[0;34m[\u001b[0m\u001b[0;34m'ctrl'\u001b[0m\u001b[0;34m]\u001b[0m\u001b[0;34m,\u001b[0m\u001b[0mdf17_new\u001b[0m\u001b[0;34m[\u001b[0m\u001b[0;34m'trt1'\u001b[0m\u001b[0;34m]\u001b[0m\u001b[0;34m,\u001b[0m\u001b[0mdf17_new\u001b[0m\u001b[0;34m[\u001b[0m\u001b[0;34m'trt2'\u001b[0m\u001b[0;34m]\u001b[0m\u001b[0;34m)\u001b[0m\u001b[0;34m\u001b[0m\u001b[0;34m\u001b[0m\u001b[0m\n\u001b[0m\u001b[1;32m      5\u001b[0m \u001b[0;34m\u001b[0m\u001b[0m\n\u001b[1;32m      6\u001b[0m \u001b[0;34m\u001b[0m\u001b[0m\n",
            "\u001b[0;31mNameError\u001b[0m: name 'df17_new' is not defined"
          ]
        }
      ]
    },
    {
      "cell_type": "code",
      "source": [
        "#18.  Perform a one-way ANOVA test using Python to compare the means of different groups and plot the results ?\n",
        "# datasets >>\n",
        "group_a18 = np.random.normal(loc=36,scale=18,size=1000)\n",
        "group_b18 = np.random.normal(loc=47,scale=25,size=1000)\n",
        "group_c18 = np.random.normal(loc=28,scale=30,size=1000)\n",
        "\n",
        "\n",
        "\n",
        "\n",
        "\n",
        "f_stats18,p_value18 =stats.f_oneway(group_a18,group_b18,group_c18)\n",
        "\n",
        "\n",
        "p_value18\n",
        "\n"
      ],
      "metadata": {
        "colab": {
          "base_uri": "https://localhost:8080/"
        },
        "id": "4-I1iUBgihlr",
        "outputId": "b05d2252-a1e5-49fa-abbb-aade166c5efc"
      },
      "execution_count": 93,
      "outputs": [
        {
          "output_type": "execute_result",
          "data": {
            "text/plain": [
              "np.float64(4.0332852128897486e-54)"
            ]
          },
          "metadata": {},
          "execution_count": 93
        }
      ]
    },
    {
      "cell_type": "code",
      "source": [
        "alpha = 0.05\n",
        "\n",
        "\n",
        "if p_value18 <= alpha:\n",
        "  print(\"Reject the null hypothesis\")\n",
        "else:\n",
        "    print(\"Fail to reject null hypothesis\")"
      ],
      "metadata": {
        "colab": {
          "base_uri": "https://localhost:8080/"
        },
        "id": "YT7CNQEcipQt",
        "outputId": "10298385-efb6-472e-d8ef-90f3d6d7bcc0"
      },
      "execution_count": 94,
      "outputs": [
        {
          "output_type": "stream",
          "name": "stdout",
          "text": [
            "Reject the null hypothesis\n"
          ]
        }
      ]
    },
    {
      "cell_type": "code",
      "source": [
        "# now making a plot out of it >>\n",
        "data18 = [group_a18,group_b18,group_c18]\n",
        "# here we combined the all three above groups for visulsation\n",
        "\n",
        "\n",
        "labels = [\"Traditional Study\", \"Online Courses\", \"Group Study\"]\n",
        "plt.figure(figsize=(10,5))\n",
        "plt.boxplot(x =data18)\n",
        "plt.title('\"Comparison of Exam Scores Across Study Methods\"')\n",
        "plt.ylabel('exam scores')\n",
        "plt.legend()\n",
        "plt.show()"
      ],
      "metadata": {
        "colab": {
          "base_uri": "https://localhost:8080/",
          "height": 468
        },
        "id": "JiLljZg3iyYQ",
        "outputId": "4a3a0543-6dbd-4228-daaf-4743bf9780ac"
      },
      "execution_count": 95,
      "outputs": [
        {
          "output_type": "display_data",
          "data": {
            "text/plain": [
              "<Figure size 1000x500 with 1 Axes>"
            ],
            "image/png": "[encoded data removed]"
          },
          "metadata": {}
        }
      ]
    },
    {
      "cell_type": "code",
      "source": [
        "#19.  Write a Python function to check the assumptions (normality, independence, and equal variance) for ANOVAD ?\n",
        "\n",
        "\n",
        "def check_anova_assumptions(*groups):\n",
        "\n",
        "\n",
        "    # 1. Normality Test (Shapiro-Wilk Test)\n",
        "    print(\"1️Normality Test (Shapiro-Wilk)\")\n",
        "    for i, group in enumerate(groups):\n",
        "        stat, p_value = stats.shapiro(group)\n",
        "        print(f\"   Group {i+1}: W={stat:.4f}, p={p_value:.4f}\")\n",
        "        if p_value < 0.05:\n",
        "            print(\"Data is NOT normal (p < 0.05)\")\n",
        "        else:\n",
        "            print(\"Data is normal (p ≥ 0.05)\")\n",
        "\n",
        "    print(\"\\nIndependence Assumption\")\n",
        "    print(\"Independence must be ensured through study design (random sampling).\")\n",
        "\n",
        "    # 3. Homogeneity of Variance Test (Levene's Test)\n",
        "    print(\"Equal Variance Test (Levene’s Test)\")\n",
        "    stat, p_value = stats.levene(*groups)\n",
        "    print(f\"   Levene’s Test: W={stat:.4f}, p={p_value:.4f}\")\n",
        "    if p_value < 0.05:\n",
        "        print(\"Variances are NOT equal (p < 0.05)\")\n",
        "    else:\n",
        "        print(\"Variances are equal (p ≥ 0.05)\")\n",
        "\n",
        "    # Visualization: Boxplot for variance comparison\n",
        "    plt.figure(figsize=(8, 5))\n",
        "    sns.boxplot(data=groups, palette=\"Set2\")\n",
        "    plt.xticks(ticks=range(len(groups)), labels=[f\"Group {i+1}\" for i in range(len(groups))])\n",
        "    plt.ylabel(\"Values\")\n",
        "    plt.title(\"Boxplot for Variance Comparison\")\n",
        "    plt.show()\n",
        "\n",
        "\n",
        "\n",
        "\n",
        "# data to check anove asumptions\n",
        "group_a19 = np.random.normal(loc=35,scale=16,size=2000)\n",
        "group_b19 = np.random.normal(loc=28,scale=13,size=2000)\n",
        "group_c19 = np.random.normal(loc=20,scale=19,size=2000)\n",
        "\n",
        "\n",
        "check_anova_assumptions(group_a19,group_b19,group_c19)"
      ],
      "metadata": {
        "colab": {
          "base_uri": "https://localhost:8080/",
          "height": 694
        },
        "id": "RVyw-EzBi3iL",
        "outputId": "b801378e-7b1a-4b2c-e50a-836e07ad5826"
      },
      "execution_count": 96,
      "outputs": [
        {
          "output_type": "stream",
          "name": "stdout",
          "text": [
            "1️Normality Test (Shapiro-Wilk)\n",
            "   Group 1: W=0.9994, p=0.7627\n",
            "Data is normal (p ≥ 0.05)\n",
            "   Group 2: W=0.9991, p=0.4398\n",
            "Data is normal (p ≥ 0.05)\n",
            "   Group 3: W=0.9995, p=0.9130\n",
            "Data is normal (p ≥ 0.05)\n",
            "\n",
            "Independence Assumption\n",
            "Independence must be ensured through study design (random sampling).\n",
            "Equal Variance Test (Levene’s Test)\n",
            "   Levene’s Test: W=120.8098, p=0.0000\n",
            "Variances are NOT equal (p < 0.05)\n"
          ]
        },
        {
          "output_type": "display_data",
          "data": {
            "text/plain": [
              "<Figure size 800x500 with 1 Axes>"
            ],
            "image/png": "[encoded data removed]"
          },
          "metadata": {}
        }
      ]
    },
    {
      "cell_type": "code",
      "source": [
        "#20 . Perform a two-way ANOVA test using Python to study the interaction between two factors and visualize the results ?\n",
        "import statsmodels.api as sm\n",
        "from statsmodels.formula.api import ols\n",
        "\n",
        "\n",
        "\n",
        "data20 = pd.DataFrame({\n",
        "    'teaching_method':np.repeat(['online','traditional'],30),\n",
        "    'study_Time':np.tile(np.repeat(['low','high'],15),2),\n",
        "    'test_score':np.random.normal(75,10,60) +\n",
        "                 np.where(np.repeat(['Online', 'Traditional'], 30) == 'Traditional', 5, 0) +\n",
        "                 np.where(np.tile(np.repeat(['Low', 'High'], 15), 2) == 'High', 7, 0)\n",
        "})\n",
        "\n",
        "\n",
        "model20 = ols('test_score ~ C(teaching_method) + C(study_Time) + C(teaching_method):C(study_Time)',data = data20).fit()\n",
        "anova_table = sm.stats.anova_lm(model20,typ=2)\n",
        "\n",
        "\n",
        "\n",
        "print(anova_table)\n",
        "\n",
        "                                       sum_sq    df         F    PR(>F)\n",
        "C(teaching_method)                   6.475025   1.0  0.054486  0.816284\n",
        "C(study_Time)                      353.779390   1.0  2.976998  0.089971\n",
        "C(teaching_method):C(study_Time)    47.563296   1.0  0.400238  0.529541\n",
        "Residual                          6654.908333  56.0       NaN       NaN\n",
        "\n",
        "plt.figure(figsize=(8,5))\n",
        "sns.catplot(x='teaching_method',y='test_score',hue='study_Time',data=data20,palette='Set2',kind='box')\n",
        "plt.show()\n",
        ""
      ],
      "metadata": {
        "colab": {
          "base_uri": "https://localhost:8080/",
          "height": 106
        },
        "id": "fX0tXa8xjIV7",
        "outputId": "65918c71-95ab-4484-9d75-6c57a2d82ab4"
      },
      "execution_count": 97,
      "outputs": [
        {
          "output_type": "error",
          "ename": "IndentationError",
          "evalue": "unexpected indent (<ipython-input-97-130727464bdb>, line 23)",
          "traceback": [
            "\u001b[0;36m  File \u001b[0;32m\"<ipython-input-97-130727464bdb>\"\u001b[0;36m, line \u001b[0;32m23\u001b[0m\n\u001b[0;31m    sum_sq    df         F    PR(>F)\u001b[0m\n\u001b[0m    ^\u001b[0m\n\u001b[0;31mIndentationError\u001b[0m\u001b[0;31m:\u001b[0m unexpected indent\n"
          ]
        }
      ]
    },
    {
      "cell_type": "code",
      "source": [
        "#21. Write a Python program to visualize the F-distribution and discuss its use in hypothesis testing ?\n",
        "dfnum =130\n",
        "dfdin= 130\n",
        "f_dist21 =np.random.f(dfnum,dfdin,size=1000)\n",
        "plt.hist(f_dist21,bins=35,color='green')\n",
        "plt.title('f_distribution')\n",
        "plt.xlabel('f_values')\n",
        "plt.ylabel('density')\n",
        "plt.show()\n",
        "# this is the visualization of f - distribution\n",
        "\n"
      ],
      "metadata": {
        "colab": {
          "base_uri": "https://localhost:8080/",
          "height": 472
        },
        "id": "CdtNs-awjQms",
        "outputId": "3400f88d-4b37-4a7b-cf98-5b31f083594b"
      },
      "execution_count": 98,
      "outputs": [
        {
          "output_type": "display_data",
          "data": {
            "text/plain": [
              "<Figure size 640x480 with 1 Axes>"
            ],
            "image/png": "[encoded data removed]"
          },
          "metadata": {}
        }
      ]
    },
    {
      "cell_type": "code",
      "source": [
        "#22 . Perform a one-way ANOVA test in Python and visualize the results with boxplots to compare group means ?\n",
        "# firstly makeing dataset for further calculation\n",
        "grp_a22 =np.random.normal(loc=25,scale=38,size=2000)\n",
        "grp_b22 =np.random.normal(loc=18,scale=46,size=2000)\n",
        "grp_c22 =np.random.normal(loc=39,scale=60,size=2000)\n",
        "\n",
        "\n",
        "f_stats22,p_value22 =stats.f_oneway(grp_a22,grp_b22,grp_c22)\n",
        "alpha = 0.05\n",
        "\n",
        "if p_value22 <= alpha:\n",
        "  print(\"reject the null hypothesis\")\n",
        "else:\n",
        "  print('fail to reject the null hyposthesis')\n",
        "\n",
        "\n",
        "# now visualization of this using boxplot\n",
        "# bringing all groups together for visulization\n",
        "data22 = [grp_a22,grp_b22,grp_c22]\n",
        "labels = [\"Group A\", \"Group B\", \"Group C\"]\n",
        "\n",
        "plt.figure(figsize=(10,5))\n",
        "plt.boxplot(x= data22,label =labels)\n",
        "plt.title('one way anove test')\n",
        "plt.legend()\n",
        "plt.show()"
      ],
      "metadata": {
        "colab": {
          "base_uri": "https://localhost:8080/",
          "height": 485
        },
        "id": "1P96VzY4jni-",
        "outputId": "8e2c95f0-4cb8-4808-dae3-e929f187186d"
      },
      "execution_count": 99,
      "outputs": [
        {
          "output_type": "stream",
          "name": "stdout",
          "text": [
            "reject the null hypothesis\n"
          ]
        },
        {
          "output_type": "display_data",
          "data": {
            "text/plain": [
              "<Figure size 1000x500 with 1 Axes>"
            ],
            "image/png": "[encoded data removed]"
          },
          "metadata": {}
        }
      ]
    },
    {
      "cell_type": "code",
      "source": [
        "#23 .  Simulate random data from a normal distribution, then perform hypothesis testing to evaluate the means ?\n",
        "# first creating random data for further calculation\n",
        "mean1 ,size1 =25,28\n",
        "mean2,size2 = 16,28\n",
        "grp_a23= np.random.normal(loc=mean1,scale=5,size=size1)\n",
        "grp_b23 = np.random.normal(loc=mean2,scale=5,size=size2)\n",
        "\n",
        "\n",
        "# now perfroming t test\n",
        "t_stats23,p_value23 = stats.ttest_ind(grp_a23,grp_b23,equal_var=True)\n",
        "\n",
        "\n",
        "p_value23"
      ],
      "metadata": {
        "colab": {
          "base_uri": "https://localhost:8080/"
        },
        "id": "8hiVqM4djtq_",
        "outputId": "5101457a-c33f-444a-ddf5-049e69385174"
      },
      "execution_count": 100,
      "outputs": [
        {
          "output_type": "execute_result",
          "data": {
            "text/plain": [
              "np.float64(7.075976322363448e-09)"
            ]
          },
          "metadata": {},
          "execution_count": 100
        }
      ]
    },
    {
      "cell_type": "code",
      "source": [
        "if p_value23 <= alpha:\n",
        "  print(\"Reject the null hypothesis\")\n",
        "else:\n",
        "    print(\"Fail to reject null hypothesis\")\n",
        ""
      ],
      "metadata": {
        "colab": {
          "base_uri": "https://localhost:8080/"
        },
        "id": "0NLWqZIqj1H7",
        "outputId": "45806b33-035e-46db-a886-8f355cb88b68"
      },
      "execution_count": 101,
      "outputs": [
        {
          "output_type": "stream",
          "name": "stdout",
          "text": [
            "Reject the null hypothesis\n"
          ]
        }
      ]
    },
    {
      "cell_type": "code",
      "source": [
        "#24.  Perform a hypothesis test for population variance using a Chi-square distribution and interpret the results ?\n",
        "data24 = np.random.normal(loc=38,scale=10,size=80)\n",
        "\n",
        "\n",
        "\n",
        "sam_var24=statistics.variance(data24)\n",
        "\n",
        "\n",
        "sam_var24\n",
        "size24 = len(data24)\n",
        "size24"
      ],
      "metadata": {
        "colab": {
          "base_uri": "https://localhost:8080/"
        },
        "id": "qNkqm7I1j6GW",
        "outputId": "374298be-d02a-425a-ca24-38a148bad2b3"
      },
      "execution_count": 102,
      "outputs": [
        {
          "output_type": "execute_result",
          "data": {
            "text/plain": [
              "80"
            ]
          },
          "metadata": {},
          "execution_count": 102
        }
      ]
    },
    {
      "cell_type": "code",
      "source": [
        "# now squre of sigma / std\n",
        "sigma_squre = 10 ** 2\n",
        "sigma_squre\n",
        ""
      ],
      "metadata": {
        "colab": {
          "base_uri": "https://localhost:8080/"
        },
        "id": "oI66TsxtkBDv",
        "outputId": "1c5ea16b-d1a4-4305-e89e-1c86cbf10e1a"
      },
      "execution_count": 103,
      "outputs": [
        {
          "output_type": "execute_result",
          "data": {
            "text/plain": [
              "100"
            ]
          },
          "metadata": {},
          "execution_count": 103
        }
      ]
    },
    {
      "cell_type": "code",
      "source": [
        "chi_stats24 = (size24 - 1) * sam_var24 / sigma_squre\n",
        "chi_stats24\n",
        ""
      ],
      "metadata": {
        "colab": {
          "base_uri": "https://localhost:8080/"
        },
        "id": "ZJNhJkcnkGql",
        "outputId": "446ea084-5a9c-4722-b5f6-991fc3104acb"
      },
      "execution_count": 104,
      "outputs": [
        {
          "output_type": "execute_result",
          "data": {
            "text/plain": [
              "np.float64(97.06773242386232)"
            ]
          },
          "metadata": {},
          "execution_count": 104
        }
      ]
    },
    {
      "cell_type": "code",
      "source": [
        "alpha = 0.05\n",
        "from scipy.stats import chi2\n",
        "\n",
        "\n",
        "chi_critical_low24 = stats.chi2.ppf(alpha / 2, df = size24 - 1)\n",
        "chi_critical_high24 = stats.chi2.ppf(1 - alpha / 2 ,df = size24 - 1)\n",
        "\n",
        "\n",
        "chi_critical_low24\n",
        ""
      ],
      "metadata": {
        "colab": {
          "base_uri": "https://localhost:8080/"
        },
        "id": "CcEp-yrfkL_h",
        "outputId": "c4758195-253f-43c1-fd36-c5f7036a848d"
      },
      "execution_count": 105,
      "outputs": [
        {
          "output_type": "execute_result",
          "data": {
            "text/plain": [
              "np.float64(56.30890283343967)"
            ]
          },
          "metadata": {},
          "execution_count": 105
        }
      ]
    },
    {
      "cell_type": "code",
      "source": [
        "# now computing p _vkae\n",
        "p_value24 = 2 * min(chi2.cdf(chi_stats24, df =size24 -1 ),1 - chi2.cdf(chi_stats24,df= size24 - 1))\n",
        "p_value24\n",
        "\n"
      ],
      "metadata": {
        "colab": {
          "base_uri": "https://localhost:8080/"
        },
        "id": "76TfDMFPkTLp",
        "outputId": "27ab8f61-5f36-4230-c869-96a85f24a47f"
      },
      "execution_count": 106,
      "outputs": [
        {
          "output_type": "execute_result",
          "data": {
            "text/plain": [
              "np.float64(0.16374862488751152)"
            ]
          },
          "metadata": {},
          "execution_count": 106
        }
      ]
    },
    {
      "cell_type": "code",
      "source": [
        "if p_value24 < alpha:\n",
        "    print(\"Reject the null hypothesis: The population variance is significantly different from 100.\")\n",
        "else:\n",
        "    print(\"Fail to reject the null hypothesis: No significant evidence that the population variance is different from 100.\")\n",
        ""
      ],
      "metadata": {
        "colab": {
          "base_uri": "https://localhost:8080/"
        },
        "id": "xPHseYsgkYB5",
        "outputId": "fcbda071-c516-44ab-c607-c9d99aeac8cb"
      },
      "execution_count": 107,
      "outputs": [
        {
          "output_type": "stream",
          "name": "stdout",
          "text": [
            "Fail to reject the null hypothesis: No significant evidence that the population variance is different from 100.\n"
          ]
        }
      ]
    },
    {
      "cell_type": "code",
      "source": [
        "#25.  Write a Python script to perform a Z-test for comparing proportions between two datasets or groups ?\n",
        "pop_mean1 , pop_mean2 = 49 , 32\n",
        "pop_std1, pop_std2 = 27, 22\n",
        "data_a25 = np.random.normal(loc=pop_mean1, scale=pop_std1,size=50)\n",
        "data_b25 = np.random.normal(loc=pop_mean2, scale=pop_std2,size=50)\n",
        "\n",
        "\n",
        "# now  making sample means\n",
        "sam_mean_a25 = np.mean(data_a25)\n",
        "sam_mean_b25 = np.mean(data_b25)\n",
        "\n",
        "\n",
        "\n",
        "sam_mean_a25\n",
        ""
      ],
      "metadata": {
        "colab": {
          "base_uri": "https://localhost:8080/"
        },
        "id": "iunEP8ewkiI-",
        "outputId": "82100937-61b7-4239-bebb-18dd9f819b18"
      },
      "execution_count": 108,
      "outputs": [
        {
          "output_type": "execute_result",
          "data": {
            "text/plain": [
              "np.float64(51.47229157299537)"
            ]
          },
          "metadata": {},
          "execution_count": 108
        }
      ]
    },
    {
      "cell_type": "code",
      "source": [
        "size_a , size_b = len(data_a25) , len(data_b25)\n",
        "\n",
        "\n",
        "z_stats25 = (sam_mean_a25 - sam_mean_b25) / np.sqrt((pop_std1 ** 2 / size_a) + (pop_std2 ** 2 / size_b))\n",
        "\n",
        "\n",
        "z_stats25\n",
        ""
      ],
      "metadata": {
        "colab": {
          "base_uri": "https://localhost:8080/"
        },
        "id": "LHAQF1V9kpAZ",
        "outputId": "89a0770d-8ef8-4a31-85f6-13774f04fa27"
      },
      "execution_count": 109,
      "outputs": [
        {
          "output_type": "execute_result",
          "data": {
            "text/plain": [
              "np.float64(4.448302329895065)"
            ]
          },
          "metadata": {},
          "execution_count": 109
        }
      ]
    },
    {
      "cell_type": "code",
      "source": [
        "p_value25 = 2 * ( 1- stats.norm.cdf(abs(z_stats25)))\n",
        "\n",
        "\n",
        "\n",
        "if p_value25 <= alpha:\n",
        "  print(\"Reject the null hypothesis\")\n",
        "else:\n",
        "    print(\"Fail to reject null hypothesis\")\n",
        ""
      ],
      "metadata": {
        "colab": {
          "base_uri": "https://localhost:8080/"
        },
        "id": "nViZPLcrkujw",
        "outputId": "75d9354d-6f59-4fa8-ca49-e0666632fb2b"
      },
      "execution_count": 110,
      "outputs": [
        {
          "output_type": "stream",
          "name": "stdout",
          "text": [
            "Reject the null hypothesis\n"
          ]
        }
      ]
    },
    {
      "cell_type": "code",
      "source": [
        "#26 . Implement an F-test for comparing the variances of two datasets, then interpret and visualize the results ?\n",
        "data_a26 = np.random.normal(loc=40,scale=28,size =100)\n",
        "data_b26 = np.random.normal(loc=53,scale=35,size =100)\n",
        "\n",
        "\n",
        "\n",
        "var_a26 = statistics.variance(data_a26)\n",
        "var_b26 = statistics.variance(data_b26)\n",
        "# here we calculated verince of above both dataset\n",
        "\n",
        "\n",
        "f_stats26 = var_a26 / var_b26 if var_a26 > var_b26 else var_b26 / var_a26\n",
        "f_stats26"
      ],
      "metadata": {
        "colab": {
          "base_uri": "https://localhost:8080/"
        },
        "id": "46DrU0U8kzN0",
        "outputId": "a96e5f40-7447-40d8-805c-3aee35a90653"
      },
      "execution_count": 111,
      "outputs": [
        {
          "output_type": "execute_result",
          "data": {
            "text/plain": [
              "np.float64(1.7099935125799262)"
            ]
          },
          "metadata": {},
          "execution_count": 111
        }
      ]
    },
    {
      "cell_type": "code",
      "source": [
        "dof_a26 = len(data_a26) - 1\n",
        "dof_b26 = len(data_b26) - 1\n",
        "dof_a26\n",
        "alpha = 0.05\n",
        "\n",
        "\n",
        "f_cirtical26 = stats.f.ppf(q = 1 - alpha , dfn =dof_a26,dfd=dof_b26)\n",
        "f_cirtical26"
      ],
      "metadata": {
        "colab": {
          "base_uri": "https://localhost:8080/"
        },
        "id": "y_ReJ6dsk5pf",
        "outputId": "f2861365-1c87-4afd-f1c1-352f7b23d341"
      },
      "execution_count": 112,
      "outputs": [
        {
          "output_type": "execute_result",
          "data": {
            "text/plain": [
              "np.float64(1.3940612573481483)"
            ]
          },
          "metadata": {},
          "execution_count": 112
        }
      ]
    },
    {
      "cell_type": "code",
      "source": [
        "if f_stats26 > f_cirtical26:\n",
        "  print('reject the null hypothesis')\n",
        "else:\n",
        "  print('fail to reject the null hypotyhesis')\n",
        "\n"
      ],
      "metadata": {
        "colab": {
          "base_uri": "https://localhost:8080/"
        },
        "id": "U7aNPKihk-DA",
        "outputId": "463a73f1-a1f4-4c47-cfb9-28050dbb4024"
      },
      "execution_count": 113,
      "outputs": [
        {
          "output_type": "stream",
          "name": "stdout",
          "text": [
            "reject the null hypothesis\n"
          ]
        }
      ]
    },
    {
      "cell_type": "code",
      "source": [
        "#now come visvlization of this distirbution\n",
        "plt.figure(figsize=(8,4))\n",
        "dfnum = 99\n",
        "dfdin = 99\n",
        "p26 = np.random.f(dfnum,dfdin,size=100)\n",
        "plt.hist(p26,bins = 40)\n",
        "plt.title('t distribution')\n",
        "plt.show()"
      ],
      "metadata": {
        "colab": {
          "base_uri": "https://localhost:8080/",
          "height": 391
        },
        "id": "DfPR4N8XlDjv",
        "outputId": "3ec8d66c-0140-46cb-c8df-a6cd204c6e8d"
      },
      "execution_count": 114,
      "outputs": [
        {
          "output_type": "display_data",
          "data": {
            "text/plain": [
              "<Figure size 800x400 with 1 Axes>"
            ],
            "image/png": "[encoded data removed]"
          },
          "metadata": {}
        }
      ]
    },
    {
      "cell_type": "code",
      "source": [],
      "metadata": {
        "id": "-sYSBU9flHua"
      },
      "execution_count": null,
      "outputs": []
    }
  ]
}